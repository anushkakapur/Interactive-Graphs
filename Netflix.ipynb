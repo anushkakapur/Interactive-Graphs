{
 "cells": [
  {
   "cell_type": "code",
   "execution_count": 1,
   "metadata": {
    "ExecuteTime": {
     "end_time": "2020-12-08T19:13:46.937410Z",
     "start_time": "2020-12-08T19:13:45.755226Z"
    }
   },
   "outputs": [],
   "source": [
    "import pandas as pd"
   ]
  },
  {
   "cell_type": "code",
   "execution_count": 5,
   "metadata": {
    "ExecuteTime": {
     "end_time": "2020-12-08T19:14:19.208592Z",
     "start_time": "2020-12-08T19:14:19.173894Z"
    }
   },
   "outputs": [],
   "source": [
    "data = pd.read_csv('netflix_titles.csv', index_col=0)"
   ]
  },
  {
   "cell_type": "code",
   "execution_count": 190,
   "metadata": {
    "ExecuteTime": {
     "end_time": "2020-12-08T23:13:59.220188Z",
     "start_time": "2020-12-08T23:13:59.194566Z"
    }
   },
   "outputs": [
    {
     "data": {
      "text/html": [
       "<div>\n",
       "<style scoped>\n",
       "    .dataframe tbody tr th:only-of-type {\n",
       "        vertical-align: middle;\n",
       "    }\n",
       "\n",
       "    .dataframe tbody tr th {\n",
       "        vertical-align: top;\n",
       "    }\n",
       "\n",
       "    .dataframe thead th {\n",
       "        text-align: right;\n",
       "    }\n",
       "</style>\n",
       "<table border=\"1\" class=\"dataframe\">\n",
       "  <thead>\n",
       "    <tr style=\"text-align: right;\">\n",
       "      <th></th>\n",
       "      <th>type</th>\n",
       "      <th>title</th>\n",
       "      <th>director</th>\n",
       "      <th>cast</th>\n",
       "      <th>date_added</th>\n",
       "      <th>release_year</th>\n",
       "      <th>rating</th>\n",
       "      <th>duration</th>\n",
       "      <th>listed_in</th>\n",
       "      <th>description</th>\n",
       "    </tr>\n",
       "    <tr>\n",
       "      <th>country</th>\n",
       "      <th></th>\n",
       "      <th></th>\n",
       "      <th></th>\n",
       "      <th></th>\n",
       "      <th></th>\n",
       "      <th></th>\n",
       "      <th></th>\n",
       "      <th></th>\n",
       "      <th></th>\n",
       "      <th></th>\n",
       "    </tr>\n",
       "  </thead>\n",
       "  <tbody>\n",
       "    <tr>\n",
       "      <th>Argentina</th>\n",
       "      <td>38</td>\n",
       "      <td>38</td>\n",
       "      <td>26</td>\n",
       "      <td>37</td>\n",
       "      <td>38</td>\n",
       "      <td>38</td>\n",
       "      <td>38</td>\n",
       "      <td>38</td>\n",
       "      <td>38</td>\n",
       "      <td>38</td>\n",
       "    </tr>\n",
       "    <tr>\n",
       "      <th>Argentina, Brazil, France, Poland, Germany, Denmark</th>\n",
       "      <td>1</td>\n",
       "      <td>1</td>\n",
       "      <td>1</td>\n",
       "      <td>1</td>\n",
       "      <td>1</td>\n",
       "      <td>1</td>\n",
       "      <td>1</td>\n",
       "      <td>1</td>\n",
       "      <td>1</td>\n",
       "      <td>1</td>\n",
       "    </tr>\n",
       "    <tr>\n",
       "      <th>Argentina, Chile</th>\n",
       "      <td>1</td>\n",
       "      <td>1</td>\n",
       "      <td>1</td>\n",
       "      <td>1</td>\n",
       "      <td>1</td>\n",
       "      <td>1</td>\n",
       "      <td>1</td>\n",
       "      <td>1</td>\n",
       "      <td>1</td>\n",
       "      <td>1</td>\n",
       "    </tr>\n",
       "    <tr>\n",
       "      <th>Argentina, Chile, Peru</th>\n",
       "      <td>1</td>\n",
       "      <td>1</td>\n",
       "      <td>1</td>\n",
       "      <td>1</td>\n",
       "      <td>1</td>\n",
       "      <td>1</td>\n",
       "      <td>1</td>\n",
       "      <td>1</td>\n",
       "      <td>1</td>\n",
       "      <td>1</td>\n",
       "    </tr>\n",
       "    <tr>\n",
       "      <th>Argentina, France</th>\n",
       "      <td>1</td>\n",
       "      <td>1</td>\n",
       "      <td>1</td>\n",
       "      <td>1</td>\n",
       "      <td>1</td>\n",
       "      <td>1</td>\n",
       "      <td>1</td>\n",
       "      <td>1</td>\n",
       "      <td>1</td>\n",
       "      <td>1</td>\n",
       "    </tr>\n",
       "    <tr>\n",
       "      <th>...</th>\n",
       "      <td>...</td>\n",
       "      <td>...</td>\n",
       "      <td>...</td>\n",
       "      <td>...</td>\n",
       "      <td>...</td>\n",
       "      <td>...</td>\n",
       "      <td>...</td>\n",
       "      <td>...</td>\n",
       "      <td>...</td>\n",
       "      <td>...</td>\n",
       "    </tr>\n",
       "    <tr>\n",
       "      <th>Uruguay, Spain, Mexico</th>\n",
       "      <td>1</td>\n",
       "      <td>1</td>\n",
       "      <td>1</td>\n",
       "      <td>1</td>\n",
       "      <td>1</td>\n",
       "      <td>1</td>\n",
       "      <td>1</td>\n",
       "      <td>1</td>\n",
       "      <td>1</td>\n",
       "      <td>1</td>\n",
       "    </tr>\n",
       "    <tr>\n",
       "      <th>Venezuela</th>\n",
       "      <td>1</td>\n",
       "      <td>1</td>\n",
       "      <td>1</td>\n",
       "      <td>1</td>\n",
       "      <td>1</td>\n",
       "      <td>1</td>\n",
       "      <td>1</td>\n",
       "      <td>1</td>\n",
       "      <td>1</td>\n",
       "      <td>1</td>\n",
       "    </tr>\n",
       "    <tr>\n",
       "      <th>Venezuela, Colombia</th>\n",
       "      <td>1</td>\n",
       "      <td>1</td>\n",
       "      <td>1</td>\n",
       "      <td>0</td>\n",
       "      <td>1</td>\n",
       "      <td>1</td>\n",
       "      <td>1</td>\n",
       "      <td>1</td>\n",
       "      <td>1</td>\n",
       "      <td>1</td>\n",
       "    </tr>\n",
       "    <tr>\n",
       "      <th>Vietnam</th>\n",
       "      <td>4</td>\n",
       "      <td>4</td>\n",
       "      <td>4</td>\n",
       "      <td>4</td>\n",
       "      <td>4</td>\n",
       "      <td>4</td>\n",
       "      <td>4</td>\n",
       "      <td>4</td>\n",
       "      <td>4</td>\n",
       "      <td>4</td>\n",
       "    </tr>\n",
       "    <tr>\n",
       "      <th>West Germany</th>\n",
       "      <td>1</td>\n",
       "      <td>1</td>\n",
       "      <td>1</td>\n",
       "      <td>0</td>\n",
       "      <td>1</td>\n",
       "      <td>1</td>\n",
       "      <td>1</td>\n",
       "      <td>1</td>\n",
       "      <td>1</td>\n",
       "      <td>1</td>\n",
       "    </tr>\n",
       "  </tbody>\n",
       "</table>\n",
       "<p>554 rows × 10 columns</p>\n",
       "</div>"
      ],
      "text/plain": [
       "                                                    type  title  director  \\\n",
       "country                                                                     \n",
       "Argentina                                             38     38        26   \n",
       "Argentina, Brazil, France, Poland, Germany, Den...     1      1         1   \n",
       "Argentina, Chile                                       1      1         1   \n",
       "Argentina, Chile, Peru                                 1      1         1   \n",
       "Argentina, France                                      1      1         1   \n",
       "...                                                  ...    ...       ...   \n",
       "Uruguay, Spain, Mexico                                 1      1         1   \n",
       "Venezuela                                              1      1         1   \n",
       "Venezuela, Colombia                                    1      1         1   \n",
       "Vietnam                                                4      4         4   \n",
       "West Germany                                           1      1         1   \n",
       "\n",
       "                                                    cast  date_added  \\\n",
       "country                                                                \n",
       "Argentina                                             37          38   \n",
       "Argentina, Brazil, France, Poland, Germany, Den...     1           1   \n",
       "Argentina, Chile                                       1           1   \n",
       "Argentina, Chile, Peru                                 1           1   \n",
       "Argentina, France                                      1           1   \n",
       "...                                                  ...         ...   \n",
       "Uruguay, Spain, Mexico                                 1           1   \n",
       "Venezuela                                              1           1   \n",
       "Venezuela, Colombia                                    0           1   \n",
       "Vietnam                                                4           4   \n",
       "West Germany                                           0           1   \n",
       "\n",
       "                                                    release_year  rating  \\\n",
       "country                                                                    \n",
       "Argentina                                                     38      38   \n",
       "Argentina, Brazil, France, Poland, Germany, Den...             1       1   \n",
       "Argentina, Chile                                               1       1   \n",
       "Argentina, Chile, Peru                                         1       1   \n",
       "Argentina, France                                              1       1   \n",
       "...                                                          ...     ...   \n",
       "Uruguay, Spain, Mexico                                         1       1   \n",
       "Venezuela                                                      1       1   \n",
       "Venezuela, Colombia                                            1       1   \n",
       "Vietnam                                                        4       4   \n",
       "West Germany                                                   1       1   \n",
       "\n",
       "                                                    duration  listed_in  \\\n",
       "country                                                                   \n",
       "Argentina                                                 38         38   \n",
       "Argentina, Brazil, France, Poland, Germany, Den...         1          1   \n",
       "Argentina, Chile                                           1          1   \n",
       "Argentina, Chile, Peru                                     1          1   \n",
       "Argentina, France                                          1          1   \n",
       "...                                                      ...        ...   \n",
       "Uruguay, Spain, Mexico                                     1          1   \n",
       "Venezuela                                                  1          1   \n",
       "Venezuela, Colombia                                        1          1   \n",
       "Vietnam                                                    4          4   \n",
       "West Germany                                               1          1   \n",
       "\n",
       "                                                    description  \n",
       "country                                                          \n",
       "Argentina                                                    38  \n",
       "Argentina, Brazil, France, Poland, Germany, Den...            1  \n",
       "Argentina, Chile                                              1  \n",
       "Argentina, Chile, Peru                                        1  \n",
       "Argentina, France                                             1  \n",
       "...                                                         ...  \n",
       "Uruguay, Spain, Mexico                                        1  \n",
       "Venezuela                                                     1  \n",
       "Venezuela, Colombia                                           1  \n",
       "Vietnam                                                       4  \n",
       "West Germany                                                  1  \n",
       "\n",
       "[554 rows x 10 columns]"
      ]
     },
     "execution_count": 190,
     "metadata": {},
     "output_type": "execute_result"
    }
   ],
   "source": [
    "data.groupby('country').count()"
   ]
  },
  {
   "cell_type": "code",
   "execution_count": 187,
   "metadata": {
    "ExecuteTime": {
     "end_time": "2020-12-08T23:12:20.925378Z",
     "start_time": "2020-12-08T23:12:20.916005Z"
    }
   },
   "outputs": [
    {
     "data": {
      "text/plain": [
       "<pandas.core.groupby.generic.SeriesGroupBy object at 0x7fb958524a60>"
      ]
     },
     "execution_count": 187,
     "metadata": {},
     "output_type": "execute_result"
    }
   ],
   "source": [
    "data.groupby(data['type'] == 'Movie')['country']"
   ]
  },
  {
   "cell_type": "code",
   "execution_count": null,
   "metadata": {},
   "outputs": [],
   "source": []
  },
  {
   "cell_type": "code",
   "execution_count": 90,
   "metadata": {
    "ExecuteTime": {
     "end_time": "2020-12-08T21:31:49.134691Z",
     "start_time": "2020-12-08T21:31:49.127136Z"
    }
   },
   "outputs": [
    {
     "data": {
      "text/plain": [
       "show_id\n",
       "81145628    United States, India, South Korea, China\n",
       "80117401                              United Kingdom\n",
       "70234439                               United States\n",
       "80058654                               United States\n",
       "80125979                               United States\n",
       "                              ...                   \n",
       "80000063                               United States\n",
       "70286564                               United States\n",
       "80116008                                         NaN\n",
       "70281022                              United Kingdom\n",
       "70153404                               United States\n",
       "Name: country, Length: 6234, dtype: object"
      ]
     },
     "execution_count": 90,
     "metadata": {},
     "output_type": "execute_result"
    }
   ],
   "source": [
    "data['country']"
   ]
  },
  {
   "cell_type": "code",
   "execution_count": null,
   "metadata": {},
   "outputs": [],
   "source": []
  },
  {
   "cell_type": "code",
   "execution_count": 82,
   "metadata": {
    "ExecuteTime": {
     "end_time": "2020-12-08T21:28:13.750388Z",
     "start_time": "2020-12-08T21:28:13.734179Z"
    }
   },
   "outputs": [
    {
     "name": "stdout",
     "output_type": "stream",
     "text": [
      "['United States', 'India', 'South Korea', 'China', 'United Kingdom', 'United States', 'United States', 'United States', 'Spain', 'Bulgaria', 'United States', 'Spain', 'Canada', 'Chile', 'United States', 'United States', 'United Kingdom', 'Denmark', 'Sweden', 'Netherlands', 'Belgium', 'United Kingdom', 'United States', 'France', 'Belgium', 'United States', 'France', 'Belgium', 'United States', 'Uruguay', 'United States', 'United States', 'United States', 'United States', 'Thailand', 'China', 'Canada', 'United States', 'United States', 'Belgium', 'United Kingdom', 'United States', 'Belgium', 'France', 'India', 'India', 'France', 'United States', 'India', 'United Kingdom', 'United Kingdom', 'United States', 'Canada', 'Thailand', 'Thailand', 'Thailand', 'Thailand', 'Thailand', 'Thailand', 'United States', 'United States', 'United States', 'Pakistan', 'Canada', 'United States', 'India', 'United States', 'United Kingdom', 'France', 'United States', 'United Kingdom', 'United States', 'United States', 'United States', 'United Kingdom', 'United States', 'United States', 'United States', 'United States', 'United States', 'South Korea', 'United Kingdom', 'Denmark', 'United States', 'United Kingdom', 'United States', 'Turkey', 'United States', 'Brazil', 'United States', 'United States', 'United States', 'United Kingdom', 'United States', 'Denmark', 'France', 'Italy', 'Belgium', 'Netherlands', 'Indonesia', 'China', 'United States', 'United States', 'United States', 'Indonesia', 'Indonesia', 'Indonesia', 'Spain', 'Ireland', 'United Kingdom', 'India', 'Turkey', 'United States', 'United States', 'United States', 'Hong Kong', 'France', 'Morocco', 'United States', 'India', 'Hong Kong', 'China', 'Mexico', 'United States', 'United States', 'United States', 'United States', 'United States', 'Mexico', 'Vietnam', 'France', 'Canada', 'India', 'India', 'United States', 'United States', 'United States', 'United Kingdom', 'United States', 'United States', 'China', 'Canada', 'Spain', 'Argentina', 'India', 'United States', 'United States', 'United States', 'United States', 'India', 'United States', 'United Kingdom', 'United States', 'United States', 'United States', 'United States', 'Nigeria', 'Nigeria', 'France', 'Nigeria', 'South Korea', 'Japan', 'United Kingdom', 'Canada', 'United States', 'United States', 'United States', 'Brazil', 'United States', 'United States', 'United Kingdom', 'France', 'Germany', 'Spain', 'United States', 'United States', 'Spain', 'Turkey', 'Canada', 'United States', 'Hong Kong', 'Japan', 'Hong Kong', 'United States', 'Greece', 'United Kingdom', 'United States', 'Thailand', 'Vietnam', 'China', 'United States', 'United States', 'Norway', 'United Kingdom', 'France', 'Ireland', 'India', 'France', 'Switzerland', 'Spain', 'United States', 'United Arab Emirates', 'United States', 'Canada', 'United States', 'United States', 'United States', 'Canada', 'United States', 'United Kingdom', 'South Korea', 'United States', 'United States', 'United Kingdom', 'United States', 'United States', 'United States', 'United Kingdom', 'United States', 'Hong Kong', 'United States', 'United States', 'United Kingdom', 'Canada', 'United States', 'United Kingdom', 'United States', 'United States', 'United States', 'United Kingdom', 'Canada', 'Japan', 'Canada', 'United States', 'United States', 'United States', 'United States', 'United Kingdom', 'United States', 'Japan', 'Canada', 'South Korea', 'United States', 'United States', 'United States', 'United States', 'United States', 'United States', 'United States', 'United States', 'United States', 'Lebanon', 'Indonesia', 'United Kingdom', 'Ireland', 'India', 'Indonesia', 'Indonesia', 'India', 'United Kingdom', 'India', 'India', 'India', 'India', 'Cambodia', 'United States', 'Russia', 'Pakistan', 'United States', 'Mexico', 'Mexico', 'United States', 'Denmark', 'United Kingdom', 'United States', 'United States', 'Poland', 'United States', 'India', 'United States', 'United States', 'Thailand', 'Japan', 'United States', 'Thailand', 'Israel', 'United States', 'United States', 'China', 'United States', 'United States', 'United States', 'United States', 'Turkey', 'France', 'Mexico', 'China', 'United States', 'United States', 'United Kingdom', 'United States', 'United States', 'United States', 'United States', 'United States', 'United States', 'United States', 'South Korea', 'Italy', 'United States', 'United States', 'United States', 'Netherlands', 'United Kingdom', 'United States', 'United Kingdom', 'United States', 'United Kingdom', 'United States', 'United States', 'United States', 'Canada', 'United States', 'Brazil', 'United States', 'United Kingdom', 'Canada', 'United States', 'United States', 'United States', 'France', 'Germany', 'United States', 'Canada', 'Nigeria', 'United States', 'United States', 'United States', 'Australia', 'Nigeria', 'Denmark', 'Brazil', 'France', 'Portugal', 'Sweden', 'United States', 'Nigeria', 'United States', 'United States', 'United Kingdom', 'United States', 'United States', 'United States', 'Nigeria', 'Nigeria', 'United States', 'France', 'United States', 'United States', 'United States', 'United Kingdom', 'United States', 'United Arab Emirates', 'Egypt', 'United States', 'Taiwan', 'Spain', 'United States', 'France', 'Belgium', 'United States', 'India', 'India', 'India', 'India', 'United States', 'India', 'Germany', 'Austria', 'Thailand', 'Australia', 'Mexico', 'France', 'United States', 'United States', 'United States', 'Thailand', 'United States', 'Russia', 'Taiwan', 'India', 'Taiwan', 'Japan', 'Japan', 'United States', 'India', 'Czech Republic', 'France', 'India', 'Japan', 'Japan', 'United States', 'United States', 'Senegal', 'Japan', 'Japan', 'Japan', 'India', 'United States', 'United States', 'India', 'Norway', 'India', 'India', 'Japan', 'Japan', 'Japan', 'Japan', 'Japan', 'Japan', 'Germany', 'United States', 'France', 'United States', 'India', 'Soviet Union', 'Argentina', 'Spain', 'United States', 'Hong Kong', 'China', 'United Kingdom', 'Italy', 'Israel', 'Peru', 'United States', 'Argentina', 'Uruguay', 'Spain', 'France', 'Germany', 'United States', 'Italy', 'Argentina', 'United States', 'Netherlands', 'Netherlands', 'United Kingdom', 'United Kingdom', 'Pakistan', 'Norway', 'United States', 'Taiwan', 'United Kingdom', 'Canada', 'United States', 'Taiwan', 'United States', 'China', 'Spain', 'United Kingdom', 'Switzerland', 'Taiwan', 'China', 'Taiwan', 'Spain', 'United Kingdom', 'United States', 'United States', 'United States', 'United States', 'Indonesia', 'United States', 'Indonesia', 'United Kingdom', 'Ukraine', 'United States', 'United States', 'United States', 'Malaysia', 'Australia', 'United States', 'United States', 'United States', 'United States', 'United States', 'Ireland', 'South Africa', 'Indonesia', 'Vietnam', 'United States', 'Japan', 'China', 'India', 'Nepal', 'United States', 'Mexico', 'South Korea', 'India', 'Indonesia', 'Indonesia', 'Czech Republic', 'United States', 'Japan', 'United Kingdom', 'United States', 'South Korea', 'United Kingdom', 'Hong Kong', 'Turkey', 'Canada', 'Turkey', 'United States', 'United States', 'United Kingdom', 'Canada', 'Italy', 'Indonesia', 'United States', 'Japan', 'United States', 'Argentina', 'Taiwan', 'Spain', 'France', 'Philippines', 'United States', 'United States', 'Australia', 'United States', 'South Korea', 'India', 'South Korea', 'India', 'India', 'India', 'Indonesia', 'United States', 'United States', 'United States', 'United States', 'United Kingdom', 'India', 'United States', 'United States', 'United States', 'United States', 'United States', 'United States', 'United States', 'United States', 'France', 'Belgium', 'China', 'United States', 'Canada', 'Mexico', 'United States', 'United Kingdom', 'United States', 'Indonesia', 'Canada', 'Canada', 'United States', 'United Kingdom', 'Germany', 'Canada', 'France', 'France', 'Belgium', 'Canada', 'France', 'United States', 'Hong Kong', 'China', 'United States', 'United States', 'Spain', 'United States', 'China', 'United States', 'Russia', 'Poland', 'Serbia', 'Serbia', 'United States', 'Spain', 'Portugal', 'Colombia', 'United States', 'United Kingdom', 'United States', 'Czech Republic', 'India', 'United States', 'Israel', 'United States', 'United States', 'Brazil', 'Turkey', 'United States', 'Spain', 'United States', 'United Kingdom', 'Germany', 'Argentina', 'France', 'Spain', 'United States', 'United States', 'Switzerland', 'China', 'United States', 'United States', 'United Kingdom', 'United States', 'United States', 'United States', 'United States', 'Singapore', 'Malaysia', 'India', 'United Kingdom', 'United Kingdom', 'United States', 'United States', 'Canada', 'Luxembourg', 'United States', 'United States', 'Hong Kong', 'China', 'United States', 'China', 'United States', 'United States', 'United States', 'Spain', 'Germany', 'United States', 'United States', 'United States', 'United States', 'Egypt', 'Austria', 'United States', 'United States', 'India', 'India', 'India', 'India', 'India', 'India', 'India', 'United States', 'United Kingdom', 'Indonesia', 'United States', 'United States', 'United States', 'Peru', 'United Kingdom', 'United States', 'Morocco', 'United States', 'United States', 'United States', 'United States', 'United States', 'United Kingdom', 'Australia', 'United States', 'United Kingdom', 'United Kingdom', 'Canada', 'United States', 'Mexico', 'United States', 'United States', 'Bulgaria', 'United States', 'United Kingdom', 'United Kingdom', 'United Kingdom', 'United States', 'United Kingdom', 'United States', 'United Kingdom', 'United Kingdom', 'United Kingdom', 'West Germany', 'United Kingdom', 'United States', 'United Kingdom', 'United States', 'United States', 'United States', 'United States', 'Nigeria', 'Belgium', 'Luxembourg', 'France', 'United States', 'Australia', 'United States', 'Mexico', 'Argentina', 'United Kingdom', 'Canada', 'United States', 'Cayman Islands', 'South Korea', 'India', 'Hong Kong', 'China', 'United States', 'United Kingdom', 'Morocco', 'Indonesia', 'United States', 'United Kingdom', 'France', 'South Africa', 'Nigeria', 'United States', 'United Kingdom', 'United States', 'Turkey', 'India', 'Nigeria', 'Spain', 'Nigeria', 'United Kingdom', 'United States', 'United States', 'Nigeria', 'India', 'Indonesia', 'India', 'United States', 'China', 'Australia', 'Canada', 'United States', 'South Korea', 'United States', 'United States', 'South Korea', 'South Korea', 'United States', 'United Kingdom', 'United States', 'United States', 'India', 'United Kingdom', 'United States', 'United States', 'India', 'Netherlands', 'Denmark', 'South Africa', 'United States', 'United States', 'United States', 'Turkey', 'United Kingdom', 'Poland', 'United States', 'United States', 'India', 'India', 'India', 'United Kingdom', 'India', 'India', 'India', 'New Zealand', 'India', 'India', 'Venezuela', 'India', 'Malaysia', 'India', 'India', 'United States', 'Spain', 'India', 'Australia', 'United Arab Emirates', 'Australia', 'India', 'France', 'India', 'Malaysia', 'India', 'India', 'India', 'India', 'India', 'Canada', 'India', 'Thailand', 'United States', 'United Arab Emirates', 'France', 'Japan', 'Japan', 'Japan', 'France', 'Japan', 'Japan', 'Japan', 'United States', 'United Kingdom', 'France', 'Canada', 'China', 'United States', 'Italy', 'France', 'United States', 'United States', 'France', 'South Korea', 'India', 'Germany', 'Jordan', 'Netherlands', 'Turkey', 'France', 'Germany', 'Poland', 'Mexico', 'United Kingdom', 'United States', 'United States', 'United States', 'United Kingdom', 'United States', 'Turkey', 'Spain', 'France', 'United States', 'Indonesia', 'United States', 'United States', 'United States', 'Israel', 'United Kingdom', 'Canada', 'Saudi Arabia', 'Spain', 'United States', 'United States', 'Turkey', 'United States', 'United States', 'Nigeria', 'Japan', 'Spain', 'France', 'Indonesia', 'Egypt', 'France', 'Japan', 'Norway', 'Iceland', 'United States', 'Brazil', 'United States', 'United States', 'United States', 'United Kingdom', 'United Kingdom', 'United States', 'Denmark', 'France', 'Poland', 'Canada', 'United States', 'Germany', 'Canada', 'United States', 'United States', 'United States', 'United States', 'United States', 'United Kingdom', 'United States', 'Germany', 'United States', 'South Korea', 'South Korea', 'India', 'United States', 'Germany', 'United States', 'United States', 'India', 'Poland', 'United States', 'Netherlands', 'India', 'United States', 'United States', 'Canada', 'United States', 'United States', 'Poland', 'United States', 'India', 'Poland', 'United States', 'United Kingdom', 'Australia', 'India', 'Poland', 'West Germany', 'United States', 'South Korea', 'United States', 'United States', 'United States', 'United States', 'United States', 'United States', 'Germany', 'United States', 'United States', 'United Kingdom', 'France', 'United States', 'South Korea', 'United States', 'Peru', 'United Kingdom', 'United States', 'United States', 'United States', 'United States', 'United States', 'Poland', 'Nigeria', 'United States', 'United States', 'South Korea', 'South Korea', 'Poland', 'United States', 'United States', 'Poland', 'United States', 'United States', 'United Kingdom', 'United States', 'Malta', 'United Kingdom', 'South Korea', 'United States', 'United States', 'Poland', 'Poland', 'India', 'Canada', 'India', 'India', 'India', 'United States', 'United States', 'Sweden', 'United Kingdom', 'India', 'India', 'India', 'India', 'United States', 'India', 'India', 'India', 'United States', 'India', 'India', 'India', 'India', 'India', 'United States', 'United States', 'India', 'India', 'India', 'India', 'India', 'India', 'India', 'India', 'India', 'India', 'Australia', 'India', 'India', 'India', 'United States', 'United States', 'Canada', 'United States', 'India', 'India', 'United Kingdom', 'United States', 'India', 'India', 'India', 'United States', 'India', 'India', 'India', 'India', 'India', 'India', 'India', 'United States', 'India', 'India', 'United Kingdom', 'India', 'India', 'United States', 'United Kingdom', 'Germany', 'India', 'India', 'India', 'Australia', 'India', 'United States', 'Pakistan', 'South Korea', 'France', 'Canada', 'Belgium', 'United States', 'United States', 'United States', 'United States', 'United States', 'United States', 'United States', 'Canada', 'United States', 'Canada', 'United States', 'United States', 'Japan', 'Brazil', 'United Kingdom', 'United States', 'Canada', 'Spain', 'United States', 'Italy', 'United States', 'Brazil', 'United States', 'Canada', 'United Kingdom', 'United Kingdom', 'United States', 'Canada', 'Ireland', 'United States', 'United States', 'France', 'Canada', 'Lebanon', 'Qatar', 'Japan', 'United States', 'United States', 'Switzerland', 'France', 'United Kingdom', 'France', 'Belgium', 'France', 'United Kingdom', 'Australia', 'New Zealand', 'Norway', 'Germany', 'South Korea', 'United Kingdom', 'Canada', 'Japan', 'Mexico', 'United States', 'Taiwan', 'India', 'Taiwan', 'Taiwan', 'Brazil', 'United Kingdom', 'Taiwan', 'India', 'Taiwan', 'United States', 'Russia', 'Chile', 'United States', 'France', 'Taiwan', 'Spain', 'United States', 'Canada', 'United States', 'Netherlands', 'United States', 'Japan', 'Taiwan', 'India', 'United States', 'Italy', 'Taiwan', 'France', 'United States', 'United States', 'United States', 'United States', 'United States', 'United States', 'United States', 'United States', 'United States', 'United States', 'United States', 'Hong Kong', 'Brazil', 'France', 'Germany', 'China', 'United States', 'United Kingdom', 'United States', 'Brazil', 'Colombia', 'United States', 'Iceland', 'United Kingdom', 'United States', 'United Kingdom', 'Canada', 'United States', 'United States', 'France', 'United States', 'Argentina', 'Chile', 'United States', 'France', 'Belgium', 'Thailand', 'Thailand', 'Italy', 'India', 'United States', 'Canada', 'United States', 'United States', 'United States', 'United States', 'United Kingdom', 'United States', 'Japan', 'China', 'Hong Kong', 'United States', 'United States', 'United States', 'South Korea', 'United States', 'India', 'United States', 'India', 'United States', 'Canada', 'United States', 'Canada', 'South Africa', 'United States', 'New Zealand', 'Canada', 'United States', 'United States', 'India', 'United States', 'United Kingdom', 'United States', 'United States', 'Austria', 'South Korea', 'India', 'Poland', 'United States', 'United States', 'Ireland', 'Canada', 'United States', 'Canada', 'United States', 'Mexico', 'Indonesia', 'Italy', 'Switzerland', 'France', 'Germany', 'Indonesia', 'Japan', 'India', 'India', 'France', 'Mexico', 'Netherlands', 'Peru', 'United States', 'United Kingdom', 'United States', 'United States', 'Canada', 'France', 'Senegal', 'Belgium', 'Nigeria', 'France', 'South Africa', 'Nigeria', 'United States', 'Nigeria', 'Nigeria', 'United States', 'United States', 'Japan', 'Brazil', 'United States', 'France', 'Germany', 'Canada', 'United States', 'China', 'United States', 'United States', 'India', 'Canada', 'Norway', 'United States', 'United States', 'United States', 'Sweden', 'China', 'Morocco', 'Hong Kong', 'India', 'United States', 'United States', 'Mexico', 'United States', 'India', 'United States', 'United States', 'Uruguay', 'Mexico', 'United States', 'United States', 'United States', 'United States', 'United States', 'South Korea', 'United States', 'United States', 'Spain', 'Japan', 'Canada', 'United States', 'United States', 'United States', 'China', 'United States', 'United Arab Emirates', 'Spain', 'Spain', 'Belgium', 'Switzerland', 'United States', 'China', 'United Kingdom', 'France', 'United States', 'Japan', 'United States', 'Japan', 'United States', 'United States', 'Brazil', 'United States', 'Singapore', 'United States', 'United States', 'South Korea', 'United States', 'United States', 'India', 'United States', 'India', 'United Kingdom', 'Germany', 'Canada', 'United States', 'France', 'United States', 'United States', 'Thailand', 'Spain', 'Australia', 'Canada', 'United States', 'United States', 'United States', 'Mexico', 'Australia', 'France', 'United States', 'United States', 'United States', 'United States', 'United States', 'United States', 'India', 'United States', 'United States', 'United States', 'Germany', 'United States', 'United States', 'Mexico', 'Germany', 'United Kingdom', 'India', 'Italy', 'United States', 'United States', 'United States', 'United States', 'New Zealand', 'United Kingdom', 'United States', 'United States', 'United States', 'United States', 'United States', 'United Kingdom', 'Germany', 'United States', 'United States', 'Germany', 'United States', 'France', 'United States', 'United States', 'United States', 'United States', 'United States', 'Indonesia', 'Indonesia', 'United States', 'United States', 'United States', 'United States', 'United States', 'United States', 'Canada', 'United States', 'Australia', 'Mexico', 'United States', 'United States', 'South Korea', 'Japan', 'United States', 'Canada', 'United States', 'United States', 'United States', 'United States', 'Canada', 'United States', 'Brazil', 'United States', 'United States', 'Thailand', 'France', 'Iran', 'United States', 'United States', 'United Kingdom', 'United Kingdom', 'Australia', 'Canada', 'United States', 'United States', 'Argentina', 'United States', 'United States', 'South Korea', 'United States', 'France', 'Qatar', 'Colombia', 'United Kingdom', 'United States', 'United States', 'Taiwan', 'China', 'United States', 'Mexico', 'United States', 'United States', 'Canada', 'United States', 'India', 'United States', 'United States', 'United States', 'United Kingdom', 'United States', 'Finland', 'Germany', 'Belgium', 'United States', 'United Kingdom', 'France', 'United States', 'Spain', 'Chile', 'Peru', 'United States', 'United States', 'United Arab Emirates', 'United States', 'United Kingdom', 'Mexico', 'United States', 'France', 'Belgium', 'United States', 'United States', 'Brazil', 'United States', 'Taiwan', 'United States', 'Colombia', 'Argentina', 'India', 'India', 'United States', 'South Korea', 'Japan', 'Spain', 'Taiwan', 'United States', 'Ireland', 'Taiwan', 'South Korea', 'India', 'United States', 'United States', 'Mexico', 'Japan', 'Thailand', 'India', 'Canada', 'India', 'India', 'Indonesia', 'India', 'India', 'Australia', 'Iraq', 'India', 'India', 'United States', 'Australia', 'Australia', 'France', 'Spain', 'India', 'Malaysia', 'India', 'Japan', 'Russia', 'United States', 'Germany', 'India', 'United States', 'United States', 'France', 'Thailand', 'United States', 'United States', 'United States', 'United States', 'Mexico', 'Argentina', 'United States', 'Mexico', 'Philippines', 'Denmark', 'United States', 'United States', 'United States', 'United States', 'United States', 'Canada', 'United States', 'China', 'United States', 'United States', 'Canada', 'Brazil', 'United States', 'Germany', 'France', 'Russia', 'United States', 'Canada', 'France', 'United States', 'Japan', 'Mexico', 'United States', 'Brazil', 'France', 'United States', 'United Kingdom', 'United States', 'Germany', 'United States', 'Spain', 'United States', 'France', 'United States', 'United States', 'United States', 'United States', 'United States', 'United States', 'United States', 'United States', 'United Kingdom', 'United States', 'United States', 'United States', 'Italy', 'United Kingdom', 'Liechtenstein', 'India', 'Canada', 'Hong Kong', 'United States', 'Italy', 'United States', 'United States', 'United States', 'United States', 'United States', 'United States', 'United States', 'United States', 'United Kingdom', 'Italy', 'United States', 'France', 'Canada', 'Spain', 'United States', 'Spain', 'United States', 'Mexico', 'United States', 'United States', 'United States', 'United States', 'United States', 'Canada', 'United States', 'Mexico', 'United States', 'United Kingdom', 'United States', 'United States', 'United States', 'Japan', 'United States', 'United States', 'United States', 'United States', 'Mexico', 'United States', 'United States', 'United States', 'Japan', 'United States', 'United States', 'United Kingdom', 'United States', 'United States', 'Hong Kong', 'United States', 'United States', 'United States', 'United States', 'United Kingdom', 'United States', 'United States', 'United States', 'United Kingdom', 'United States', 'United States', 'United States', 'United States', 'Australia', 'United States', 'Italy', 'Belgium', 'France', 'United States', 'United States', 'United States', 'United States', 'United States', 'United States', 'United States', 'Argentina', 'Spain', 'United States', 'United Kingdom', 'France', 'United States', 'India', 'India', 'India', 'India', 'India', 'India', 'India', 'India', 'United States', 'India', 'India', 'Canada', 'India', 'United Kingdom', 'India', 'India', 'India', 'United States', 'Brazil', 'United States', 'India', 'United States', 'India', 'Thailand', 'India', 'India', 'India', 'India', 'India', 'India', 'India', 'India', 'United States', 'India', 'India', 'United States', 'Germany', 'United States', 'India', 'India', 'India', 'India', 'India', 'India', 'India', 'India', 'India', 'United States', 'United States', 'United Kingdom', 'United States', 'New Zealand', 'United Kingdom', 'Australia', 'United Kingdom', 'China', 'United States', 'South Africa', 'India', 'India', 'India', 'India', 'India', 'India', 'India', 'Spain', 'Japan', 'United Arab Emirates', 'France', 'India', 'India', 'Pakistan', 'United States', 'India', 'Germany', 'Canada', 'India', 'India', 'India', 'Canada', 'United States', 'South Korea', 'China', 'Singapore', 'India', 'Canada', 'India', 'Mexico', 'India', 'United Kingdom', 'Taiwan', 'Taiwan', 'Taiwan', 'Taiwan', 'Taiwan', 'Taiwan', 'United States', 'Spain', 'Australia', 'Australia', 'Canada', 'Australia', 'Hong Kong', 'Canada', 'United States', 'United States', 'Egypt', 'United States', 'Taiwan', 'United States', 'Canada', 'United Kingdom', 'Egypt', 'Egypt', 'Egypt', 'United States', 'United States', 'United States', 'United Kingdom', 'United States', 'Mexico', 'France', 'South Korea', 'Canada', 'Lebanon', 'Brazil', 'Germany', 'United States', 'United Kingdom', 'Belgium', 'Sweden', 'United States', 'China', 'United States', 'India', 'United States', 'United States', 'United States', 'Mexico', 'Canada', 'Japan', 'United States', 'United States', 'Mexico', 'United States', 'Turkey', 'United States', 'Denmark', 'United States', 'Germany', 'United States', 'Canada', 'France', 'United States', 'Italy', 'Switzerland', 'Albania', 'Poland', 'Mexico', 'China', 'Hong Kong', 'Chile', 'Spain', 'Colombia', 'United States', 'United States', 'India', 'India', 'Germany', 'India', 'India', 'India', 'United Kingdom', 'Thailand', 'China', 'India', 'India', 'India', 'United States', 'United States', 'United Kingdom', 'United Kingdom', 'United States', 'South Korea', 'United States', 'United States', 'United States', 'Mexico', 'United States', 'Spain', 'United States', 'United Kingdom', 'South Korea', 'United States', 'United States', 'Belgium', 'Netherlands', 'Colombia', 'United Kingdom', 'Israel', 'Russia', 'India', 'United States', 'Canada', 'United States', 'United States', 'United States', 'United States', 'United States', 'United States', 'South Korea', 'Spain', 'South Korea', 'United States', 'United States', 'India', 'United States', 'United Kingdom', 'Thailand', 'India', 'India', 'Argentina', 'United States', 'United States', 'United Kingdom', 'South Africa', 'United States', 'Austria', 'United States', 'United States', 'United States', 'United States', 'France', 'United States', 'South Korea', 'China', 'India', 'Japan', 'United States', 'South Korea', 'South Korea', 'South Korea', 'United Kingdom', 'South Korea', 'South Korea', 'South Korea', 'United States', 'Canada', 'United States', 'United States', 'United States', 'United States', 'India', 'United States', 'Egypt', 'United States', 'United States', 'India', 'United States', 'Cambodia', 'United States', 'Canada', 'United States', 'India', 'United States', 'Turkey', 'Japan', 'South Korea', 'Thailand', 'Brazil', 'United States', 'Canada', 'United States', 'United States', 'Australia', 'United Arab Emirates', 'South Africa', 'United States', 'Mexico', 'Spain', 'Denmark', 'Spain', 'Spain', 'United States', 'United States', 'Philippines', 'Italy', 'United States', 'China', 'United States', 'United States', 'Spain', 'Mexico', 'France', 'United States', 'India', 'India', 'United States', 'India', 'India', 'India', 'United Kingdom', 'United States', 'Germany', 'United Kingdom', 'India', 'India', 'Argentina', 'Italy', 'United Kingdom', 'United States', 'United States', 'United States', 'Pakistan', 'United Kingdom', 'United Kingdom', 'Pakistan', 'United Kingdom', 'India', 'India', 'Argentina', 'India', 'India', 'India', 'India', 'India', 'India', 'India', 'Pakistan', 'Japan', 'Denmark', 'France', 'United States', 'Sweden', 'Japan', 'India', 'India', 'United States', 'India', 'United States', 'United States', 'India', 'Colombia', 'Mexico', 'United States', 'United States', 'Czech Republic', 'Slovakia', 'United Kingdom', 'United Kingdom', 'United States', 'United States', 'Japan', 'United States', 'United States', 'United Kingdom', 'United States', 'India', 'United States', 'United States', 'United States', 'Germany', 'New Zealand', 'China', 'Hong Kong', 'United States', 'United States', 'United States', 'United Kingdom', 'France', 'Canada', 'Chile', 'Argentina', 'France', 'Hong Kong', 'China', 'India', 'Germany', 'France', 'Mexico', 'United States', 'United Kingdom', 'United States', 'United States', 'Spain', 'United States', 'China', 'United States', 'United States', 'India', 'India', 'India', 'India', 'India', 'Canada', 'Spain', 'France', 'Uruguay', 'United States', 'United States', 'United States', 'Germany', 'United States', 'United Kingdom', 'India', 'France', 'United States', 'France', 'Malaysia', 'United Kingdom', 'United States', 'South Korea', 'Czech Republic', 'India', 'Hong Kong', 'United States', 'United States', 'United Kingdom', 'United Kingdom', 'Argentina', 'United Kingdom', 'India', 'India', 'India', 'South Korea', 'India', 'Italy', 'United States', 'Argentina', 'United States', 'Argentina', 'Spain', 'United Kingdom', 'India', 'India', 'South Korea', 'United States', 'United States', 'India', 'France', 'India', 'South Korea', 'Canada', 'India', 'India', 'Spain', 'United States', 'India', 'Italy', 'India', 'United States', 'United States', 'Spain', 'United States', 'South Africa', 'India', 'Canada', 'United States', 'Singapore', 'France', 'India', 'India', 'India', 'India', 'India', 'India', 'India', 'United States', 'India', 'United States', 'India', 'India', 'India', 'India', 'United States', 'Japan', 'United States', 'France', 'Belgium', 'France', 'Belgium', 'India', 'Japan', 'United Kingdom', 'Canada', 'India', 'United States', 'Australia', 'Samoa', 'United Kingdom', 'India', 'United States', 'India', 'Canada', 'India', 'India', 'India', 'India', 'India', 'India', 'India', 'India', 'India', 'India', 'India', 'Spain', 'Switzerland', 'India', 'India', 'Spain', 'France', 'United States', 'Canada', 'Japan', 'United Kingdom', 'United States', 'Canada', 'United States', 'United States', 'United States', 'United Kingdom', 'Ireland', 'India', 'United States', 'United Arab Emirates', 'Jordan', 'United Kingdom', 'United States', 'United States', 'United Kingdom', 'United Arab Emirates', 'Turkey', 'Japan', 'United States', 'France', 'United States', 'United Kingdom', 'Canada', 'France', 'United States', 'United States', 'United States', 'South Korea', 'India', 'United States', 'United States', 'United States', 'Philippines', 'Philippines', 'Philippines', 'Philippines', 'United States', 'United States', 'Chile', 'Bulgaria', 'United States', 'United States', 'United States', 'United States', 'United States', 'United States', 'United States', 'United States', 'Norway', 'Germany', 'Sweden', 'United States', 'United States', 'United States', 'United States', 'United States', 'South Korea', 'United States', 'Philippines', 'United States', 'United States', 'United States', 'Philippines', 'India', 'Japan', 'Philippines', 'Philippines', 'Austria', 'United States', 'United States', 'Italy', 'United States', 'Ghana', 'United States', 'Canada', 'Mexico', 'United Kingdom', 'India', 'Canada', 'United States', 'United Kingdom', 'United Kingdom', 'United States', 'United States', 'United Kingdom', 'United States', 'United States', 'United Kingdom', 'United Kingdom', 'United States', 'United Kingdom', 'United States', 'United States', 'United States', 'United States', 'United Kingdom', 'United Kingdom', 'United States', 'United Kingdom', 'United States', 'United States', 'United States', 'United Kingdom', 'United States', 'United States', 'United Kingdom', 'United Kingdom', 'United States', 'United States', 'United States', 'Ireland', 'United Kingdom', 'United States', 'United States', 'China', 'United States', 'Mexico', 'United Kingdom', 'Spain', 'United States', 'Germany', 'Canada', 'Canada', 'United Kingdom', 'Canada', 'India', 'United States', 'United States', 'United States', 'Cambodia', 'Mexico', 'India', 'Mexico', 'Finland', 'Spain', 'France', 'United States', 'United States', 'United States', 'United Kingdom', 'Canada', 'United States', 'India', 'United Kingdom', 'United States', 'United States', 'France', 'United States', 'Indonesia', 'Indonesia', 'Iceland', 'United Kingdom', 'India', 'United States', 'Philippines', 'Qatar', 'India', 'United States', 'Spain', 'United States', 'United Kingdom', 'Brazil', 'United States', 'United States', 'United States', 'United States', 'Thailand', 'China', 'United States', 'Netherlands', 'Belgium', 'Germany', 'Jordan', 'Venezuela', 'Colombia', 'United States', 'United Kingdom', 'United States', 'India', 'United States', 'France', 'United States', 'Mexico', 'India', 'Spain', 'Brazil', 'United States', 'United Kingdom', 'Canada', 'Japan', 'Philippines', 'Philippines', 'Philippines', 'Philippines', 'Philippines', 'Philippines', 'Ireland', 'Brazil', 'Netherlands', 'United States', 'Colombia', 'Austria', 'Germany', 'United States', 'Italy', 'France', 'Italy', 'France', 'United States', 'India', 'Japan', 'United States', 'Chile', 'Japan', 'India', 'India', 'Japan', 'India', 'India', 'United States', 'United Kingdom', 'Australia', 'United States', 'Japan', 'United States', 'India', 'Austria', 'Iraq', 'United States', 'India', 'Japan', 'United States', 'Argentina', 'Chile', 'Canada', 'United States', 'Denmark', 'United Kingdom', 'South Africa', 'Sweden', 'Belgium', 'United States', 'United States', 'United States', 'United States', 'United States', 'Canada', 'United States', 'United States', 'South Korea', 'United States', 'Canada', 'United Kingdom', 'United Kingdom', 'United States', 'United States', 'Taiwan', 'United States', 'United States', 'United States', 'Botswana', 'South Korea', 'Japan', 'Iran', 'France', 'United Arab Emirates', 'United States', 'Argentina', 'United States', 'United States', 'United States', 'United States', 'Belgium', 'United Kingdom', 'Japan', 'United States', 'United States', 'United Kingdom', 'United States', 'United Arab Emirates', 'United Kingdom', 'India', 'France', 'Belgium', 'Nigeria', 'Italy', 'United States', 'Belgium', 'Netherlands', 'Spain', 'United States', 'United States', 'United States', 'United States', 'Hong Kong', 'China', 'United States', 'Taiwan', 'United States', 'Malaysia', 'Germany', 'United States', 'United Kingdom', 'United States', 'Czech Republic', 'United Kingdom', 'United States', 'India', 'India', 'India', 'India', 'Japan', 'India', 'Sweden', 'India', 'Hungary', 'India', 'Australia', 'Australia', 'United States', 'India', 'United States', 'Argentina', 'India', 'India', 'India', 'Egypt', 'India', 'Belgium', 'Poland', 'India', 'Canada', 'France', 'United States', 'United Kingdom', 'India', 'India', 'India', 'France', 'France', 'United States', 'Philippines', 'Philippines', 'Philippines', 'Philippines', 'Philippines', 'South Korea', 'India', 'Germany', 'United States', 'United States', 'United States', 'Egypt', 'Egypt', 'United States', 'Japan', 'United Kingdom', 'United States', 'South Korea', 'South Korea', 'United States', 'United States', 'Egypt', 'Egypt', 'Singapore', 'United States', 'United States', 'United States', 'Ireland', 'Guatemala', 'Portugal', 'Spain', 'Turkey', 'Turkey', 'United States', 'United States', 'Turkey', 'Turkey', 'Turkey', 'Turkey', 'Turkey', 'Turkey', 'Turkey', 'Turkey', 'Turkey', 'Turkey', 'Turkey', 'Turkey', 'Turkey', 'Turkey', 'Turkey', 'Turkey', 'Turkey', 'Turkey', 'Turkey', 'Turkey', 'Turkey', 'South Korea', 'Turkey', 'Turkey', 'Turkey', 'Turkey', 'Turkey', 'France', 'Turkey', 'Turkey', 'Turkey', 'Thailand', 'United States', 'Thailand', 'France', 'Belgium', 'United States', 'India', 'Taiwan', 'Hong Kong', 'United States', 'China', 'United Kingdom', 'United States', 'United States', 'United States', 'United States', 'United Kingdom', 'United Kingdom', 'Canada', 'Canada', 'United States', 'France', 'United States', 'Canada', 'India', 'United Kingdom', 'Malawi', 'United States', 'Denmark', 'Paraguay', 'Argentina', 'United States', 'Thailand', 'United States', 'France', 'United States', 'United States', 'Spain', 'France', 'Canada', 'United States', 'United States', 'United States', 'India', 'India', 'Pakistan', 'United States', 'India', 'India', 'India', 'United Kingdom', 'India', 'India', 'India', 'India', 'India', 'United Kingdom', 'India', 'India', 'United Kingdom', 'United States', 'India', 'India', 'India', 'India', 'India', 'India', 'India', 'India', 'India', 'India', 'India', 'United States', 'India', 'United States', 'India', 'United States', 'United States', 'India', 'India', 'India', 'India', 'India', 'India', 'India', 'Germany', 'India', 'India', 'India', 'India', 'India', 'India', 'United States', 'India', 'Spain', 'India', 'India', 'Canada', 'India', 'France', 'India', 'Somalia', 'Kenya', 'Sudan', 'South Africa', 'United States', 'India', 'India', 'India', 'India', 'India', 'Canada', 'Canada', 'Canada', 'Canada', 'India', 'United States', 'India', 'India', 'India', 'India', 'India', 'United States', 'Germany', 'United States', 'Germany', 'Sri Lanka', 'United Kingdom', 'United Kingdom', 'United Kingdom', 'United Kingdom', 'United Kingdom', 'Italy', 'United States', 'United States', 'India', 'India', 'Ukraine', 'United Kingdom', 'United States', 'Argentina', 'Italy', 'South Korea', 'India', 'United States', 'United States', 'United States', 'Spain', 'Spain', 'Japan', 'South Korea', 'Canada', 'United States', 'United States', 'Germany', 'United States', 'United States', 'Australia', 'Mexico', 'Canada', 'France', 'Argentina', 'Uruguay', 'Spain', 'Mexico', 'Spain', 'Australia', 'India', 'France', 'Luxembourg', 'Canada', 'Germany', 'India', 'United States', 'United States', 'United States', 'United States', 'India', 'United States', 'Germany', 'United States', 'United States', 'Spain', 'France', 'Italy', 'Egypt', 'Egypt', 'Egypt', 'France', 'Egypt', 'Egypt', 'Egypt', 'Egypt', 'Egypt', 'Japan', 'United States', 'France', 'China', 'Japan', 'United States', 'United States', 'United States', 'United States', 'United Kingdom', 'France', 'Canada', 'Belgium', 'United States', 'India', 'Netherlands', 'United States', 'United States', 'United States', 'United Kingdom', 'United States', 'Thailand', 'United States', 'India', 'United States', 'United States', 'United States', 'Spain', 'Spain', 'United States', 'United Kingdom', 'United States', 'United States', 'United Kingdom', 'United States', 'Mexico', 'Indonesia', 'Hong Kong', 'China', 'South Korea', 'United States', 'United States', 'India', 'United Kingdom', 'United Kingdom', 'Chile', 'United Kingdom', 'United States', 'Colombia', 'Mexico', 'United States', 'United States', 'France', 'United States', 'United States', 'Dominican Republic', 'United States', 'France', 'Mexico', 'United States', 'United Kingdom', 'United States', 'Brazil', 'Canada', 'South Korea', 'United States', 'United Kingdom', 'Mexico', 'United States', 'France', 'United States', 'Japan', 'India', 'United States', 'Israel', 'India', 'United States', 'United States', 'United States', 'Chile', 'Argentina', 'France', 'Spain', 'United States', 'United States', 'United States', 'Canada', 'India', 'Brazil', 'Japan', 'India', 'France', 'Canada', 'Canada', 'Canada', 'Mexico', 'United States', 'United States', 'United Kingdom', 'United States', 'United States', 'United Kingdom', 'Russia', 'Spain', 'United States', 'Netherlands', 'United States', 'United States', 'United States', 'United States', 'Egypt', 'Thailand', 'China', 'United States', 'United States', 'Canada', 'Ireland', 'United States', 'United Kingdom', 'China', 'United States', 'Iceland', 'Canada', 'United States', 'Argentina', 'United States', 'Colombia', 'Japan', 'Egypt', 'United States', 'Japan', 'Japan', 'India', 'Egypt', 'India', 'Egypt', 'Egypt', 'France', 'Egypt', 'United States', 'United Kingdom', 'United States', 'United States', 'United Kingdom', 'South Korea', 'United States', 'France', 'United Kingdom', 'Japan', 'India', 'United States', 'United Kingdom', 'United States', 'Australia', 'Spain', 'United Kingdom', 'South Korea', 'Japan', 'United States', 'Germany', 'United States', 'Sweden', 'United States', 'Brazil', 'United Kingdom', 'Australia', 'Mexico', 'United States', 'United States', 'United States', 'Canada', 'United States', 'China', 'Hong Kong', 'United States', 'United States', 'Germany', 'United States', 'United States', 'Canada', 'Japan', 'Panama', 'United States', 'Canada', 'Japan', 'Sweden', 'United States', 'India', 'Egypt', 'India', 'Japan', 'China', 'Spain', 'Belgium', 'Argentina', 'India', 'Israel', 'Peru', 'United States', 'Spain', 'Chile', 'Peru', 'Norway', 'India', 'Brazil', 'Israel', 'Sweden', 'Germany', 'Netherlands', 'Italy', 'United Kingdom', 'United States', 'United States', 'Brazil', 'India', 'United States', 'United States', 'Mexico', 'United States', 'Egypt', 'Lebanon', 'Jordan', 'United States', 'Egypt', 'Indonesia', 'Egypt', 'Egypt', 'Egypt', 'United States', 'United States', 'United States', 'United States', 'United States', 'Brazil', 'United States', 'United States', 'Malaysia', 'United Kingdom', 'United States', 'United States', 'South Korea', 'South Korea', 'South Korea', 'China', 'China', 'Hong Kong', 'South Korea', 'Romania', 'Romania', 'United States', 'South Africa', 'United States', 'Taiwan', 'United States', 'United States', 'Mexico', 'United States', 'India', 'United States', 'Romania', 'Romania', 'Canada', 'United States', 'United States', 'United States', 'United States', 'United Kingdom', 'United States', 'United States', 'United States', 'Hong Kong', 'United States', 'India', 'Thailand', 'Denmark', 'Sweden', 'Israel', 'United States', 'India', 'United States', 'United Arab Emirates', 'Canada', 'United States', 'United States', 'India', 'France', 'United States', 'Germany', 'Switzerland', 'United States', 'India', 'United Kingdom', 'United States', 'United States', 'United States', 'Finland', 'Sweden', 'Norway', 'Latvia', 'Germany', 'India', 'United States', 'United Kingdom', 'United Kingdom', 'India', 'India', 'United States', 'Brazil', 'France', 'United Kingdom', 'India', 'Canada', 'United States', 'India', 'Colombia', 'India', 'India', 'Spain', 'Denmark', 'Singapore', 'India', 'United Kingdom', 'Mexico', 'Australia', 'Australia', 'Spain', 'Sweden', 'Spain', 'United Kingdom', 'Spain', 'Mexico', 'United States', 'United States', 'United Kingdom', 'South Korea', 'United States', 'United Kingdom', 'France', 'United States', 'China', 'China', 'United States', 'China', 'Germany', 'United States', 'Italy', 'France', 'Switzerland', 'Spain', 'Argentina', 'United States', 'Spain', 'France', 'Luxembourg', 'United States', 'India', 'United States', 'India', 'United Kingdom', 'United States', 'Argentina', 'United States', 'India', 'India', 'India', 'United States', 'China', 'Hong Kong', 'United States', 'United States', 'United States', 'Singapore', 'Japan', 'France', 'Canada', 'United States', 'Hong Kong', 'Hong Kong', 'United States', 'India', 'Canada', 'Thailand', 'Thailand', 'Thailand', 'Mexico', 'United States', 'United States', 'United States', 'United States', 'United States', 'United Kingdom', 'Poland', 'United States', 'United States', 'United States', 'Australia', 'Australia', 'United States', 'Hong Kong', 'France', 'Belgium', 'United States', 'United Kingdom', 'United States', 'Mexico', 'United States', 'Japan', 'Australia', 'United States', 'Spain', 'United States', 'Spain', 'Philippines', 'Singapore', 'United Kingdom', 'France', 'Belgium', 'United Kingdom', 'United Kingdom', 'United Kingdom', 'United Kingdom', 'United Kingdom', 'United Kingdom', 'United States', 'Argentina', 'United Kingdom', 'United States', 'United States', 'United Kingdom', 'France', 'United Kingdom', 'United States', 'China', 'Hong Kong', 'United States', 'United States', 'Thailand', 'Canada', 'Mexico', 'Germany', 'South Africa', 'United Kingdom', 'New Zealand', 'United States', 'United States', 'Thailand', 'Thailand', 'Thailand', 'Thailand', 'India', 'Thailand', 'Thailand', 'United States', 'Brazil', 'India', 'Uganda', 'China', 'United States', 'United States', 'United States', 'United States', 'Spain', 'United States', 'Sweden', 'United States', 'United States', 'United States', 'Italy', 'United States', 'Germany', 'United States', 'United Kingdom', 'United States', 'United Kingdom', 'Germany', 'United Arab Emirates', 'United States', 'United States', 'India', 'China', 'Hong Kong', 'United States', 'United States', 'Hong Kong', 'Hong Kong', 'Hong Kong', 'China', 'Hong Kong', 'China', 'United States', 'Hong Kong', 'United States', 'United Kingdom', 'United States', 'Egypt', 'United Kingdom', 'New Zealand', 'China', 'United States', 'United Kingdom', 'United States', 'Japan', 'Brazil', 'Canada', 'Slovenia', 'Croatia', 'Germany', 'Czech Republic', 'Qatar', 'Sweden', 'United States', 'Thailand', 'Thailand', 'South Korea', 'Germany', 'Australia', 'China', 'United States', 'Australia', 'Russia', 'United States', 'Spain', 'United States', 'Japan', 'India', 'Spain', 'United States', 'United States', 'Ireland', 'Canada', 'United Kingdom', 'United States', 'United States', 'Australia', 'United Kingdom', 'Canada', 'Australia', 'United States', 'United States', 'South Korea', 'United States', 'United States', 'Spain', 'Spain', 'Japan', 'India', 'United States', 'Canada', 'India', 'China', 'Japan', 'Spain', 'United States', 'India', 'United States', 'Canada', 'United States', 'United States', 'United States', 'Japan', 'Japan', 'Japan', 'Japan', 'France', 'United States', 'United States', 'Canada', 'Spain', 'France', 'Argentina', 'United States', 'United Kingdom', 'Denmark', 'Canada', 'Croatia', 'Australia', 'United Kingdom', 'United States', 'Argentina', 'United States', 'France', 'Switzerland', 'United States', 'India', 'Argentina', 'Spain', 'Argentina', 'France', 'Germany', 'United States', 'United States', 'Switzerland', 'United Kingdom', 'United States', 'Spain', 'India', 'India', 'United States', 'Argentina', 'Chile', 'Peru', 'United States', 'United States', 'Germany', 'United States', 'Germany', 'France', 'Luxembourg', 'United Kingdom', 'United States', 'China', 'United States', 'United States', 'United States', 'Canada', 'Japan', 'United States', 'France', 'United States', 'United States', 'United States', 'Mexico', 'United States', 'United States', 'United Kingdom', 'United States', 'Spain', 'United Kingdom', 'United Kingdom', 'United States', 'Canada', 'Taiwan', 'China', 'France', 'United States', 'United Kingdom', 'Australia', 'Germany', 'Mexico', 'United Kingdom', 'Australia', 'South Korea', 'France', 'United States', 'United States', 'United States', 'Germany', 'Italy', 'Turkey', 'India', 'United States', 'Spain', 'United Kingdom', 'United States', 'United Kingdom', 'France', 'Denmark', 'United Kingdom', 'United States', 'United States', 'United States', 'South Korea', 'United States', 'Germany', 'United Kingdom', 'United States', 'United States', 'United States', 'United States', 'United States', 'United States', 'Canada', 'United States', 'France', 'United States', 'United States', 'Australia', 'United States', 'United States', 'United States', 'United States', 'United States', 'United States', 'United States', 'United States', 'United States', 'United States', 'United States', 'United States', 'United States', 'United States', 'United States', 'United States', 'United States', 'United States', 'United States', 'United States', 'United States', 'United States', 'France', 'United States', 'United States', 'Japan', 'United Kingdom', 'United States', 'United States', 'United Arab Emirates', 'United States', 'United States', 'United States', 'United States', 'United States', 'United States', 'Canada', 'United States', 'United States', 'Czech Republic', 'United Kingdom', 'United States', 'China', 'United States', 'Germany', 'Canada', 'United States', 'Czech Republic', 'United States', 'Spain', 'United States', 'India', 'India', 'United States', 'India', 'India', 'India', 'Canada', 'India', 'India', 'United States', 'United States', 'India', 'India', 'India', 'United States', 'India', 'United States', 'India', 'India', 'China', 'India', 'India', 'India', 'India', 'India', 'Hong Kong', 'Taiwan', 'India', 'Mexico', 'United States', 'Italy', 'United States', 'India', 'United States', 'India', 'India', 'United States', 'China', 'United States', 'India', 'United States', 'France', 'Turkey', 'Australia', 'Singapore', 'United States', 'Bulgaria', 'India', 'United States', 'Argentina', 'Spain', 'Canada', 'Australia', 'Netherlands', 'United States', 'Pakistan', 'India', 'India', 'South Korea', 'India', 'India', 'Spain', 'Singapore', 'Singapore', 'China', 'Pakistan', 'Singapore', 'Pakistan', 'India', 'Singapore', 'Spain', 'France', 'Norway', 'United States', 'United States', 'United States', 'United States', 'South Korea', 'Nigeria', 'United States', 'Israel', 'Norway', 'India', 'Croatia', 'Slovenia', 'Serbia', 'Montenegro', 'United States', 'United Kingdom', 'Japan', 'India', 'United States', 'United States', 'United States', 'Canada', 'United States', 'India', 'United States', 'United Kingdom', 'United States', 'United States', 'United States', 'Spain', 'United States', 'France', 'Italy', 'United Kingdom', 'Canada', 'Bangladesh', 'India', 'Nepal', 'United States', 'United Kingdom', 'Jordan', 'Qatar', 'Iran', 'United States', 'Canada', 'United States', 'United States', 'United States', 'India', 'Indonesia', 'Indonesia', 'Indonesia', 'United Kingdom', 'Thailand', 'Indonesia', 'United States', 'Japan', 'United States', 'Brazil', 'Norway', 'Denmark', 'Sweden', 'Canada', 'United Kingdom', 'United States', 'Iceland', 'Sweden', 'Belgium', 'Japan', 'Nigeria', 'United States', 'United Kingdom', 'France', 'Malaysia', 'China', 'Hong Kong', 'United States', 'United States', 'India', 'United Arab Emirates', 'Germany', 'United States', 'Mexico', 'India', 'United States', 'Sweden', 'United States', 'United States', 'India', 'Pakistan', 'United States', 'United States', 'United Kingdom', 'South Korea', 'Mexico', 'India', 'United States', 'Australia', 'Switzerland', 'Vatican City', 'Italy', 'Germany', 'France', 'United States', 'United States', 'India', 'South Korea', 'Israel', 'Spain', 'Spain', 'United States', 'United States', 'France', 'Indonesia', 'Singapore', 'India', 'Indonesia', 'Indonesia', 'Indonesia', 'United Kingdom', 'United States', 'Spain', 'Germany', 'Greece', 'Canada', 'United Kingdom', 'United States', 'Spain', 'Germany', 'Greece', 'Canada', 'United Kingdom', 'United States', 'Spain', 'Germany', 'Greece', 'Canada', 'United Kingdom', 'United States', 'Spain', 'Germany', 'Greece', 'Canada', 'United Kingdom', 'Mexico', 'Israel', 'United Kingdom', 'Philippines', 'United States', 'United States', 'Singapore', 'Mexico', 'France', 'Argentina', 'Spain', 'Belgium', 'United Kingdom', 'Spain', 'South Korea', 'United States', 'Argentina', 'Spain', 'United States', 'Germany', 'Bulgaria', 'United States', 'Brazil', 'United States', 'United States', 'Argentina', 'France', 'South Korea', 'Colombia', 'United States', 'United States', 'United States', 'Turkey', 'Spain', 'United Kingdom', 'United States', 'China', 'Hong Kong', 'United States', 'United States', 'France', 'United States', 'United States', 'United States', 'Mexico', 'United Arab Emirates', 'Japan', 'Argentina', 'India', 'United States', 'India', 'United States', 'Belgium', 'United Kingdom', 'United States', 'United States', 'France', 'United Kingdom', 'United States', 'United States', 'United States', 'United States', 'United States', 'United Kingdom', 'France', 'Germany', 'Japan', 'United Kingdom', 'United States', 'United States', 'United States', 'United States', 'United States', 'Brazil', 'Mexico', 'India', 'United Kingdom', 'Spain', 'United States', 'Colombia', 'Japan', 'United States', 'United States', 'Turkey', 'United Kingdom', 'Egypt', 'United States', 'United States', 'United States', 'China', 'United States', 'India', 'Malaysia', 'Taiwan', 'Canada', 'United Kingdom', 'United States', 'United Kingdom', 'France', 'United States', 'Japan', 'United Kingdom', 'United States', 'United States', 'United States', 'United States', 'United Kingdom', 'France', 'United States', 'United States', 'Canada', 'United States', 'United Kingdom', 'Spain', 'Belgium', 'United States', 'Germany', 'India', 'Spain', 'United States', 'Austria', 'United States', 'United States', 'Germany', 'United States', 'United Kingdom', 'Canada', 'United States', 'Pakistan', 'India', 'Pakistan', 'United States', 'India', 'Mexico', 'Colombia', 'Mexico', 'United States', 'Taiwan', 'United States', 'India', 'Pakistan', 'South Korea', 'United States', 'United States', 'Indonesia', 'Indonesia', 'United States', 'Soviet Union', 'India', 'United States', 'United States', 'United Kingdom', 'United States', 'South Korea', 'India', 'India', 'Australia', 'United Arab Emirates', 'Thailand', 'United Kingdom', 'United States', 'India', 'Germany', 'United States', 'Ireland', 'United Kingdom', 'Italy', 'United States', 'United States', 'Austria', 'Czech Republic', 'Germany', 'United States', 'Mexico', 'India', 'Germany', 'Hong Kong', 'China', 'Hong Kong', 'China', 'United States', 'United States', 'United States', 'Poland', 'Canada', 'Taiwan', 'United States', 'Mexico', 'United States', 'United States', 'United States', 'United States', 'India', 'United States', 'Brazil', 'France', 'France', 'United States', 'Argentina', 'United States', 'India', 'United Kingdom', 'Ireland', 'United States', 'Czech Republic', 'United States', 'United States', 'United States', 'South Korea', 'United States', 'United States', 'Greece', 'Brazil', 'Lebanon', 'Qatar', 'United States', 'Philippines', 'United States', 'United Kingdom', 'Spain', 'United States', 'United States', 'United States', 'United Kingdom', 'India', 'United States', 'United Kingdom', 'United States', 'United States', 'United States', 'France', 'Italy', 'South Africa', 'West Germany', 'Australia', 'United States', 'Israel', 'Colombia', 'United Kingdom', 'United States', 'Dominican Republic', 'Brazil', 'India', 'China', 'United States', 'United States', 'United States', 'United States', 'United States', 'Canada', 'United States', 'India', 'United States', 'United Kingdom', 'United States', 'Indonesia', 'South Korea', 'Singapore', 'United States', 'United States', 'South Korea', 'United Kingdom', 'United States', 'Canada', 'Japan', 'United States', 'United Kingdom', 'United States', 'United States', 'United Kingdom', 'United States', 'United States', 'Canada', 'France', 'Brazil', 'France', 'Germany', 'United States', 'United States', 'United States', 'Germany', 'United States', 'United States', 'United States', 'United States', 'United States', 'United Kingdom', 'United States', 'United States', 'United States', 'United States', 'Canada', 'United States', 'Germany', 'United States', 'France', 'Mexico', 'United States', 'United States', 'South Korea', 'South Korea', 'United States', 'United States', 'Australia', 'India', 'United States', 'Japan', 'United States', 'United Kingdom', 'Canada', 'United States', 'Canada', 'Germany', 'United States', 'Canada', 'United States', 'United Kingdom', 'Mexico', 'United States', 'United States', 'United States', 'United States', 'United States', 'Japan', 'United States', 'United States', 'United States', 'United States', 'United States', 'Australia', 'United States', 'India', 'United Kingdom', 'United States', 'United States', 'Germany', 'United Kingdom', 'United States', 'United States', 'United States', 'Mexico', 'Spain', 'United States', 'United States', 'Indonesia', 'Germany', 'France', 'United States', 'Canada', 'United Kingdom', 'United States', 'United States', 'United States', 'United States', 'United States', 'United States', 'United States', 'Australia', 'United Kingdom', 'Germany', 'United States', 'United States', 'United States', 'United Kingdom', 'United States', 'Hong Kong', 'United States', 'Germany', 'United Kingdom', 'United States', 'Germany', 'United Kingdom', 'Italy', 'United States', 'United States', 'United Kingdom', 'Japan', 'United States', 'United States', 'United States', 'United States', 'United States', 'New Zealand', 'United States', 'New Zealand', 'United States', 'United States', 'Germany', 'Mexico', 'United States', 'United States', 'United States', 'United States', 'United States', 'United States', 'United States', 'United States', 'United States', 'South Africa', 'United States', 'United States', 'United States', 'United States', 'United States', 'United States', 'East Germany', 'West Germany', 'United States', 'United States', 'United Kingdom', 'United States', 'United States', 'United Kingdom', 'France', 'United States', 'Mexico', 'Thailand', 'United States', 'United Kingdom', 'South Africa', 'United States', 'United States', 'United States', 'United States', 'United States', 'United States', 'United States', 'United States', 'United States', 'United States', 'United States', 'United States', 'United States', 'United States', 'United States', 'France', 'United Kingdom', 'India', 'United States', 'United States', 'United States', 'Japan', 'United States', 'India', 'India', 'United States', 'United Kingdom', 'United States', 'United States', 'United Kingdom', 'United States', 'United Kingdom', 'Brazil', 'Germany', 'United States', 'United States', 'United States', 'India', 'India', 'United States', 'India', 'United States', 'United States', 'India', 'Bangladesh', 'India', 'Germany', 'Belgium', 'Canada', 'France', 'Italy', 'Morocco', 'United States', 'Spain', 'India', 'Japan', 'United States', 'Nigeria', 'United States', 'United States', 'India', 'India', 'India', 'India', 'India', 'United States', 'India', 'India', 'France', 'United States', 'India', 'United States', 'India', 'India', 'United States', 'United States', 'United States', 'United States', 'United States', 'United States', 'United States', 'Denmark', 'Germany', 'Belgium', 'United Kingdom', 'France', 'France', 'Belgium', 'Japan', 'United States', 'India', 'India', 'United States', 'South Korea', 'Nigeria', 'India', 'France', 'New Zealand', 'United States', 'United States', 'India', 'United Kingdom', 'United States', 'India', 'Taiwan', 'India', 'Taiwan', 'India', 'United States', 'Australia', 'China', 'Taiwan', 'France', 'Belgium', 'United States', 'Taiwan', 'India', 'India', 'Belgium', 'Ireland', 'Netherlands', 'Germany', 'Afghanistan', 'India', 'United States', 'Venezuela', 'India', 'Taiwan', 'Taiwan', 'Canada', 'United Kingdom', 'Netherlands', 'United States', 'Japan', 'Canada', 'United States', 'United States', 'United States', 'France', 'Japan', 'United States', 'United States', 'France', 'Japan', 'United States', 'France', 'Japan', 'United States', 'United States', 'New Zealand', 'United States', 'New Zealand', 'Japan', 'United States', 'United States', 'New Zealand', 'United States', 'United States', 'United States', 'United States', 'United States', 'United States', 'United States', 'United States', 'United States', 'United States', 'United States', 'France', 'Japan', 'United States', 'Netherlands', 'Japan', 'France', 'United States', 'France', 'Japan', 'United States', 'United States', 'United States', 'France', 'United States', 'Canada', 'United States', 'United States', 'Taiwan', 'United States', 'United Kingdom', 'Canada', 'Georgia', 'China', 'United States', 'United Kingdom', 'United States', 'United States', 'United States', 'United States', 'Mexico', 'United States', 'Spain', 'Spain', 'New Zealand', 'United Kingdom', 'Australia', 'United States', 'Mexico', 'France', 'Belgium', 'Canada', 'United States', 'Egypt', 'United States', 'China', 'Hong Kong', 'Canada', 'United States', 'United States', 'United States', 'United States', 'Egypt', 'South Korea', 'United States', 'United Kingdom', 'Egypt', 'Japan', 'Hong Kong', 'United States', 'United States', 'United States', 'Italy', 'India', 'Canada', 'United States', 'United Kingdom', 'Belgium', 'India', 'Australia', 'United States', 'United States', 'Canada', 'Belgium', 'United Kingdom', 'United States', 'United States', 'United States', 'South Korea', 'Mexico', 'United States', 'United States', 'United States', 'Spain', 'Italy', 'Spain', 'France', 'United States', 'United States', 'South Korea', 'United States', 'Australia', 'United States', 'United States', 'Spain', 'Philippines', 'Philippines', 'Philippines', 'Philippines', 'India', 'Philippines', 'Philippines', 'Philippines', 'Philippines', 'Malaysia', 'Philippines', 'Philippines', 'Philippines', 'Philippines', 'United States', 'Philippines', 'Philippines', 'United Kingdom', 'United States', 'India', 'United States', 'United States', 'United States', 'United States', 'United States', 'Serbia', 'South Korea', 'Slovenia', 'France', 'Netherlands', 'South Africa', 'Finland', 'Brazil', 'China', 'United States', 'Denmark', 'Indonesia', 'Finland', 'Norway', 'United Kingdom', 'Israel', 'France', 'United States', 'Germany', 'Netherlands', 'United States', 'France', 'United States', 'India', 'Spain', 'United States', 'Chile', 'Brazil', 'Japan', 'Japan', 'Japan', 'Japan', 'United States', 'Mexico', 'South Korea', 'United States', 'Spain', 'United Kingdom', 'Germany', 'United States', 'United States', 'United Kingdom', 'United Kingdom', 'United States', 'India', 'United States', 'France', 'India', 'United States', 'United Kingdom', 'United States', 'United Kingdom', 'United Kingdom', 'United States', 'United States', 'Norway', 'United States', 'United States', 'United States', 'United Kingdom', 'United States', 'United Kingdom', 'United States', 'South Korea', 'United Kingdom', 'South Korea', 'United States', 'India', 'United States', 'United States', 'United States', 'United States', 'Canada', 'Netherlands', 'Denmark', 'France', 'Germany', 'Ireland', 'Canada', 'Luxembourg', 'United States', 'India', 'United States', 'United Kingdom', 'India', 'United States', 'United Kingdom', 'United States', 'United States', 'Hungary', 'South Korea', 'United States', 'United Kingdom', 'United States', 'United States', 'United States', 'United States', 'Japan', 'South Korea', 'South Korea', 'Spain', 'United States', 'Spain', 'Italy', 'Argentina', 'United States', 'Japan', 'United States', 'United States', 'India', 'France', 'United States', 'United States', 'Israel', 'Italy', 'South Africa', 'India', 'United States', 'South Korea', 'India', 'India', 'India', 'United Kingdom', 'United States', 'Russia', 'United States', 'United States', 'Argentina', 'United States', 'United States', 'United States', 'United States', 'United States', 'United Kingdom', 'France', 'Germany', 'Turkey', 'Spain', 'India', 'India', 'United States', 'Brazil', 'India', 'India', 'United States', 'India', 'Denmark', 'Turkey', 'India', 'United States', 'United Kingdom', 'India', 'India', 'New Zealand', 'United States', 'Argentina', 'United States', 'India', 'Turkey', 'Spain', 'South Korea', 'India', 'India', 'India', 'India', 'India', 'India', 'Japan', 'India', 'India', 'Czech Republic', 'United Kingdom', 'France', 'India', 'India', 'Germany', 'United States', 'Italy', 'South Korea', 'Canada', 'South Korea', 'Spain', 'Chile', 'Spain', 'Argentina', 'Germany', 'Australia', 'United Kingdom', 'United States', 'New Zealand', 'Italy', 'France', 'United States', 'United States', 'United States', 'India', 'United States', 'United States', 'United Kingdom', 'Mexico', 'South Korea', 'United States', 'Indonesia', 'United Kingdom', 'Namibia', 'South Africa', 'Zimbabwe', 'United States', 'United States', 'United States', 'Hong Kong', 'France', 'Germany', 'Switzerland', 'United States', 'Brazil', 'Japan', 'United Kingdom', 'United States', 'Italy', 'West Germany', 'United States', 'United States', 'United Kingdom', 'United States', 'France', 'Germany', 'Colombia', 'Canada', 'United Kingdom', 'France', 'Canada', 'United States', 'Australia', 'Taiwan', 'United Kingdom', 'United States', 'India', 'United Kingdom', 'Australia', 'United States', 'United Kingdom', 'United States', 'Denmark', 'United States', 'United States', 'Denmark', 'China', 'Spain', 'United States', 'United Kingdom', 'Germany', 'United States', 'United Kingdom', 'France', 'Germany', 'Czech Republic', 'Belgium', 'United States', 'Russia', 'Japan', 'United Kingdom', 'United Kingdom', 'United Kingdom', 'United States', 'China', 'United States', 'United States', 'India', 'United States', 'United Kingdom', 'United Kingdom', 'United Kingdom', 'United States', 'United States', 'United States', 'Australia', 'United States', 'United States', 'United Kingdom', 'South Africa', 'Germany', 'Netherlands', 'France', 'United States', 'Mexico', 'Australia', 'South Korea', 'United States', 'United States', 'United States', 'United States', 'United Kingdom', 'United Kingdom', 'United States', 'Mexico', 'United States', 'India', 'France', 'India', 'Canada', 'India', 'India', 'Spain', 'Australia', 'China', 'South Korea', 'United States', 'United States', 'Argentina', 'India', 'United States', 'United States', 'United States', 'United States', 'Spain', 'Canada', 'United States', 'United States', 'United States', 'United States', 'Canada', 'United Kingdom', 'Spain', 'Cuba', 'United States', 'United States', 'Hungary', 'United States', 'Canada', 'France', 'India', 'Indonesia', 'Canada', 'United States', 'Indonesia', 'Indonesia', 'Indonesia', 'India', 'India', 'United States', 'India', 'India', 'India', 'India', 'India', 'India', 'Soviet Union', 'India', 'Iceland', 'United States', 'Taiwan', 'United States', 'France', 'Germany', 'United States', 'Germany', 'Brazil', 'Italy', 'Germany', 'United States', 'United Kingdom', 'United States', 'Australia', 'United States', 'Australia', 'United States', 'United States', 'Nigeria', 'United Kingdom', 'United States', 'United Kingdom', 'Japan', 'Nigeria', 'United States', 'Japan', 'United States', 'United States', 'United Kingdom', 'Spain', 'United States', 'Nigeria', 'United Kingdom', 'United States', 'Thailand', 'United States', 'United States', 'United States', 'United States', 'Denmark', 'Norway', 'United States', 'Canada', 'Australia', 'Spain', 'United States', 'United States', 'United States', 'United States', 'France', 'Belgium', 'China', 'United States', 'Israel', 'Germany', 'France', 'United States', 'India', 'India', 'India', 'India', 'India', 'India', 'India', 'India', 'India', 'India', 'India', 'India', 'United States', 'Canada', 'India', 'United States', 'India', 'India', 'India', 'United Kingdom', 'United States', 'India', 'India', 'India', 'India', 'India', 'United Kingdom', 'United States', 'India', 'United States', 'India', 'United States', 'India', 'India', 'India', 'India', 'India', 'India', 'India', 'India', 'India', 'India', 'India', 'India', 'India', 'India', 'South Korea', 'Canada', 'United States', 'China', 'India', 'India', 'India', 'United States', 'India', 'India', 'India', 'India', 'India', 'India', 'India', 'India', 'India', 'Spain', 'United Kingdom', 'United States', 'United Kingdom', 'United States', 'India', 'India', 'Canada', 'India', 'India', 'India', 'India', 'United Kingdom', 'United Kingdom', 'United Kingdom', 'United States', 'United States', 'United Kingdom', 'United Kingdom', 'Mexico', 'United States', 'United States', 'United States', 'Taiwan', 'United States', 'United States', 'Japan', 'United States', 'United States', 'United Kingdom', 'United Kingdom', 'United States', 'United States', 'Italy', 'Canada', 'United States', 'United States', 'Mexico', 'France', 'United States', 'Italy', 'Canada', 'France', 'Thailand', 'United States', 'Mexico', 'Israel', 'Mexico', 'Mexico', 'Mexico', 'Japan', 'United States', 'United Kingdom', 'United States', 'Mexico', 'United States', 'United States', 'United States', 'United Kingdom', 'United States', 'Canada', 'South Korea', 'Brazil', 'United States', 'United Kingdom', 'United States', 'United Kingdom', 'United States', 'France', 'Belgium', 'Mexico', 'United States', 'Thailand', 'France', 'United States', 'France', 'United Kingdom', 'United States', 'Uruguay', 'Argentina', 'Spain', 'Sweden', 'Netherlands', 'United States', 'Israel', 'India', 'United States', 'United Kingdom', 'India', 'India', 'Brazil', 'Spain', 'Germany', 'Nigeria', 'South Africa', 'Argentina', 'Uruguay', 'Serbia', 'United States', 'Turkey', 'United States', 'France', 'Japan', 'Canada', 'Germany', 'United Kingdom', 'United States', 'United States', 'Italy', 'France', 'United States', 'Canada', 'France', 'Poland', 'United States', 'United States', 'United States', 'United Kingdom', 'Turkey', 'Turkey', 'Turkey', 'Turkey', 'Azerbaijan', 'United States', 'United States', 'Japan', 'United States', 'Israel', 'United States', 'France', 'Japan', 'United States', 'United States', 'Australia', 'United Kingdom', 'United Arab Emirates', 'Canada', 'United States', 'United Kingdom', 'United Kingdom', 'India', 'United States', 'France', 'Mexico', 'United States', 'Japan', 'United States', 'Taiwan', 'Japan', 'Canada', 'United States', 'Ireland', 'United Kingdom', 'United States', 'United States', 'United Kingdom', 'Mexico', 'United States', 'United States', 'United States', 'United Kingdom', 'United States', 'Australia', 'United States', 'United States', 'India', 'Australia', 'Nigeria', 'United States', 'France', 'Belgium', 'United States', 'Mexico', 'Taiwan', 'Taiwan', 'Taiwan', 'Germany', 'Japan', 'Poland', 'United States', 'Brazil', 'United States', 'Turkey', 'Argentina', 'United States', 'Mauritius', 'South Africa', 'Nigeria', 'Nigeria', 'United Kingdom', 'Italy', 'Argentina', 'United States', 'Poland', 'United States', 'United Kingdom', 'Singapore', 'Japan', 'Japan', 'Singapore', 'Singapore', 'Singapore', 'Canada', 'Australia', 'Mexico', 'United States', 'France', 'South Korea', 'Japan', 'Argentina', 'United States', 'United States', 'Australia', 'United States', 'Italy', 'France', 'Belgium', 'Australia', 'France', 'Ireland', 'United States', 'South Korea', 'Pakistan', 'Ireland', 'United Kingdom', 'Greece', 'France', 'Netherlands', 'India', 'Japan', 'United States', 'Canada', 'United States', 'Australia', 'United States', 'United States', 'United States', 'United States', 'Mexico', 'France', 'India', 'United States', 'United Kingdom', 'Canada', 'Germany', 'South Africa', 'Israel', 'United States', 'United States', 'United States', 'United States', 'United Kingdom', 'United States', 'United States', 'United States', 'Canada', 'United States', 'United States', 'United States', 'United States', 'India', 'United States', 'Thailand', 'Canada', 'United States', 'Canada', 'United States', 'Canada', 'United States', 'Bangladesh', 'United Kingdom', 'United States', 'Germany', 'Denmark', 'Belgium', 'Japan', 'United States', 'India', 'China', 'United States', 'United States', 'United States', 'Canada', 'Germany', 'France', 'United States', 'United States', 'United Kingdom', 'United States', 'United Kingdom', 'Japan', 'United States', 'China', 'Hong Kong', 'United States', 'Canada', 'United States', 'Italy', 'United Kingdom', 'United States', 'United States', 'United States', 'Canada', 'United States', 'India', 'India', 'India', 'India', 'India', 'Germany', 'India', 'Japan', 'India', 'United States', 'South Africa', 'Nigeria', 'India', 'India', 'India', 'Ghana', 'India', 'United States', 'United States', 'India', 'India', 'India', 'United States', 'United States', 'United States', 'Philippines', 'United States', 'Spain', 'United States', 'United Kingdom', 'India', 'United States', 'India', 'United States', 'Japan', 'South Korea', 'United States', 'United States', 'India', 'United States', 'India', 'United States', 'Japan', 'United States', 'Nicaragua', 'India', 'India', 'India', 'India', 'India', 'United States', 'India', 'South Korea', 'China', 'United States', 'Mexico', 'United States', 'United States', 'Germany', 'France', 'South Korea', 'United Kingdom', 'India', 'South Korea', 'South Korea', 'Pakistan', 'China', 'South Korea', 'South Korea', 'South Korea', 'Pakistan', 'Israel', 'Germany', 'France', 'Pakistan', 'Brazil', 'Canada', 'New Zealand', 'Belgium', 'South Korea', 'Mexico', 'United States', 'South Africa', 'United States', 'United Kingdom', 'United States', 'United States', 'Australia', 'United States', 'United States', 'Nigeria', 'Nigeria', 'Nigeria', 'Canada', 'France', 'United States', 'Taiwan', 'Canada', 'Japan', 'Netherlands', 'United Kingdom', 'Japan', 'United States', 'United States', 'United Kingdom', 'Belgium', 'France', 'United Kingdom', 'India', 'Sweden', 'United States', 'Mexico', 'United Kingdom', 'United States', 'United States', 'India', 'United Kingdom', 'Canada', 'United States', 'Canada', 'Australia', 'United States', 'United States', 'United States', 'Egypt', 'United States', 'Japan', 'United States', 'Australia', 'United States', 'Russia', 'Norway', 'United States', 'United States', 'United States', 'United States', 'United States', 'United States', 'India', 'United States', 'Philippines', 'India', 'United States', 'Australia', 'India', 'India', 'United Kingdom', 'United States', 'Netherlands', 'United States', 'India', 'Sweden', 'United Kingdom', 'Finland', 'South Korea', 'United States', 'Canada', 'United States', 'United States', 'United States', 'India', 'France', 'Romania', 'Bulgaria', 'Hungary', 'India', 'China', 'Hong Kong', 'Hong Kong', 'Mexico', 'Norway', 'Denmark', 'Netherlands', 'Sweden', 'Japan', 'Hong Kong', 'China', 'United Kingdom', 'Hong Kong', 'India', 'Malaysia', 'Hong Kong', 'Hong Kong', 'China', 'Australia', 'Hong Kong', 'China', 'United States', 'United States', 'China', 'Hong Kong', 'Hong Kong', 'Hong Kong', 'India', 'United States', 'Hong Kong', 'China', 'United States', 'United States', 'United States', 'Canada', 'France', 'India', 'Australia', 'Malaysia', 'United Kingdom', 'Germany', 'United States', 'India', 'United Kingdom', 'India', 'United States', 'Japan', 'India', 'Mexico', 'Georgia', 'Germany', 'France', 'France', 'United States', 'India', 'Switzerland', 'Canada', 'United Kingdom', 'India', 'United States', 'United States', 'United Arab Emirates', 'Romania', 'United States', 'France', 'United States', 'India', 'United States', 'Peru', 'Taiwan', 'Taiwan', 'Japan', 'India', 'Japan', 'Spain', 'United States', 'Japan', 'United States', 'Taiwan', 'United States', 'United States', 'Kazakhstan', 'India', 'Japan', 'United States', 'Japan', 'United States', 'Australia', 'United States', 'India', 'United States', 'Brazil', 'Australia', 'United States', 'Argentina', 'Spain', 'United States', 'United States', 'South Korea', 'Lebanon', 'United States', 'Malaysia', 'Singapore', 'Hong Kong', 'South Korea', 'South Korea', 'South Korea', 'South Korea', 'South Korea', 'United States', 'United States', 'Japan', 'United States', 'United States', 'India', 'United States', 'United States', 'India', 'India', 'India', 'India', 'India', 'India', 'Malaysia', 'United States', 'Philippines', 'United States', 'United States', 'United States', 'United States', 'United States', 'United States', 'Egypt', 'United States', 'Japan', 'Mexico', 'Taiwan', 'France', 'China', 'Canada', 'Hong Kong', 'China', 'Hong Kong', 'China', 'Hong Kong', 'United States', 'France', 'France', 'Belgium', 'India', 'India', 'India', 'China', 'Japan', 'Mexico', 'Canada', 'United States', 'United Kingdom', 'France', 'Belgium', 'United States', 'United States', 'China', 'United Kingdom', 'Spain', 'India', 'United States', 'Czech Republic', 'Hong Kong', 'United States', 'Hong Kong', 'Spain', 'Colombia', 'India', 'United Kingdom', 'Japan', 'Colombia', 'Chile', 'United Kingdom', 'United Kingdom', 'United States', 'Colombia', 'Spain', 'United States', 'Netherlands', 'Spain', 'United Kingdom', 'United States', 'United States', 'Spain', 'Germany', 'United States', 'United States', 'Brazil', 'United Kingdom', 'Russia', 'United States', 'United States', 'United States', 'United States', 'Vietnam', 'India', 'India', 'India', 'United States', 'United States', 'United States', 'Canada', 'Spain', 'United States', 'Hong Kong', 'United States', 'Chile', 'France', 'Belgium', 'Spain', 'United States', 'United States', 'United States', 'United States', 'Australia', 'Japan', 'United States', 'Denmark', 'Germany', 'Belgium', 'United Kingdom', 'France', 'Sweden', 'Japan', 'United States', 'Australia', 'United States', 'Malaysia', 'Argentina', 'United Kingdom', 'Hong Kong', 'United States', 'Colombia', 'Colombia', 'India', 'Canada', 'China', 'United States', 'Canada', 'United Kingdom', 'Canada', 'United States', 'India', 'India', 'China', 'Taiwan', 'Canada', 'India', 'Israel', 'Germany', 'Poland', 'Luxembourg', 'Belgium', 'France', 'United States', 'Finland', 'Germany', 'Netherlands', 'Ireland', 'United States', 'United States', 'Canada', 'United States', 'India', 'Turkey', 'India', 'Turkey', 'India', 'Turkey', 'United States', 'Philippines', 'India', 'India', 'India', 'India', 'India', 'United States', 'Canada', 'Indonesia', 'Malaysia', 'Malaysia', 'United States', 'United States', 'Italy', 'United Kingdom', 'United States', 'India', 'United States', 'United States', 'Mexico', 'United States', 'United Kingdom', 'United States', 'India', 'India', 'India', 'United States', 'United States', 'India', 'India', 'India', 'Uruguay', 'India', 'India', 'India', 'India', 'India', 'India', 'India', 'India', 'Hong Kong', 'India', 'India', 'India', 'India', 'India', 'India', 'India', 'India', 'United States', 'Chile', 'Chile', 'Chile', 'China', 'China', 'United States', 'United States', 'Spain', 'United States', 'Australia', 'United States', 'United States', 'United States', 'United Kingdom', 'France', 'Belgium', 'United States', 'United States', 'United States', 'United States', 'Spain', 'Mexico', 'United States', 'Poland', 'South Korea', 'Canada', 'United States', 'Spain', 'Argentina', 'Russia', 'Japan', 'United States', 'United Kingdom', 'Colombia', 'South Korea', 'United States', 'United States', 'United States', 'Canada', 'China', 'Spain', 'Spain', 'India', 'Hong Kong', 'Hong Kong', 'Hong Kong', 'Hong Kong', 'Hong Kong', 'Hong Kong', 'Hong Kong', 'Hong Kong', 'Hong Kong', 'China', 'Hong Kong', 'Hong Kong', 'Thailand', 'Hong Kong', 'Hong Kong', 'Hong Kong', 'Hong Kong', 'Hong Kong', 'Hong Kong', 'Hong Kong', 'Hong Kong', 'United States', 'United States', 'Japan', 'India', 'Taiwan', 'Brazil', 'Canada', 'United States', 'India', 'United States', 'India', 'United States', 'United States', 'India', 'Turkey', 'Australia', 'Armenia', 'Japan', 'Jordan', 'Mexico', 'Mongolia', 'New Zealand', 'Philippines', 'South Africa', 'Sweden', 'United States', 'Uruguay', 'United States', 'United States', 'United States', 'Canada', 'Japan', 'Canada', 'United States', 'Argentina', 'United States', 'United Kingdom', 'India', 'United States', 'United Kingdom', 'United States', 'Bermuda', 'Ecuador', 'India', 'United States', 'United States', 'India', 'United States', 'Mexico', 'United States', 'United States', 'United Kingdom', 'United States', 'United Kingdom', 'United States', 'United States', 'United States', 'Mexico', 'United States', 'United States', 'United States', 'United States', 'United States', 'Australia', 'United States', 'United States', 'India', 'Iran', 'Brazil', 'United Kingdom', 'France', 'United States', 'United States', 'United States', 'Sweden', 'United States', 'United States', 'United Kingdom', 'United States', 'United States', 'India', 'Egypt', 'Bulgaria', 'United States', 'United States', 'United Kingdom', 'Australia', 'India', 'India', 'India', 'United Kingdom', 'United States', 'Canada', 'United States', 'United States', 'Australia', 'Pakistan', 'United Kingdom', 'South Korea', 'India', 'United Kingdom', 'United States', 'India', 'United States', 'United States', 'United States', 'United States', 'United States', 'United States', 'Germany', 'Australia', 'United States', 'Thailand', 'United States', 'United States', 'Australia', 'United States', 'India', 'United Kingdom', 'United Kingdom', 'United States', 'Mexico', 'United States', 'Hong Kong', 'United States', 'Hong Kong', 'United States', 'Hong Kong', 'China', 'India', 'China', 'Hong Kong', 'Argentina', 'France', 'Mexico', 'United States', 'India', 'Hong Kong', 'Colombia', 'Hong Kong', 'India', 'Argentina', 'India', 'India', 'India', 'India', 'United States', 'Pakistan', 'India', 'Japan', 'Japan', 'United States', 'United States', 'United Kingdom', 'India', 'United States', 'United States', 'India', 'United States', 'Australia', 'Canada', 'Taiwan', 'Germany', 'United States', 'Hong Kong', 'Singapore', 'South Korea', 'United Kingdom', 'Russia', 'United Kingdom', 'United Kingdom', 'Ireland', 'United States', 'United States', 'Taiwan', 'Russia', 'United Kingdom', 'United States', 'Australia', 'Chile', 'France', 'United States', 'United Kingdom', 'United Kingdom', 'France', 'Turkey', 'United Kingdom', 'United States', 'Taiwan', 'United Kingdom', 'United Kingdom', 'United Kingdom', 'United Kingdom', 'United Kingdom', 'Australia', 'United States', 'United States', 'Colombia', 'Taiwan', 'Taiwan', 'Taiwan', 'Taiwan', 'United Kingdom', 'Taiwan', 'Taiwan', 'Taiwan', 'United States', 'United States', 'Philippines', 'United States', 'Germany', 'India', 'South Korea', 'Spain', 'India', 'United States', 'United Kingdom', 'India', 'United States', 'South Africa', 'China', 'United States', 'United States', 'Netherlands', 'Belgium', 'Spain', 'Argentina', 'United States', 'Spain', 'United States', 'Morocco', 'United States', 'United States', 'Spain', 'Colombia', 'United States', 'United States', 'Mexico', 'United States', 'Mexico', 'Spain', 'Argentina', 'United Kingdom', 'South Africa', 'Australia', 'United States', 'United States', 'United States', 'United States', 'United States', 'India', 'United States', 'United Kingdom', 'India', 'Canada', 'United States', 'Sweden', 'Malaysia', 'United Kingdom', 'Mexico', 'United States', 'United States', 'Bulgaria', 'United States', 'South Korea', 'Turkey', 'Turkey', 'Turkey', 'India', 'Turkey', 'Turkey', 'Turkey', 'Italy', 'Turkey', 'Turkey', 'Germany', 'United Kingdom', 'Turkey', 'Turkey', 'United States', 'Hong Kong', 'Taiwan', 'United States', 'Hong Kong', 'Japan', 'Taiwan', 'Taiwan', 'Taiwan', 'Canada', 'Taiwan', 'Turkey', 'Saudi Arabia', 'Syria', 'Egypt', 'Lebanon', 'Kuwait', 'India', 'France', 'Hong Kong', 'China', 'Singapore', 'Indonesia', 'Lebanon', 'France', 'United States', 'India', 'South Korea', 'India', 'India', 'Canada', 'United Kingdom', 'United States', 'United States', 'South Korea', 'United States', 'United States', 'Australia', 'China', 'South Korea', 'South Korea', 'United States', 'Canada', 'United States', 'United Kingdom', 'United Kingdom', 'United States', 'United States', 'Spain', 'Japan', 'Australia', 'New Zealand', 'United States', 'United States', 'Egypt', 'Egypt', 'United States', 'United Kingdom', 'Norway', 'Denmark', 'Germany', 'Sweden', 'Colombia', 'Turkey', 'India', 'United States', 'United States', 'United States', 'Australia', 'Germany', 'United States', 'Australia', 'Philippines', 'United States', 'United Kingdom', 'Egypt', 'Egypt', 'United States', 'Egypt', 'United States', 'United States', 'United States', 'Brazil', 'South Korea', 'India', 'South Africa', 'United States', 'Germany', 'Sweden', 'United States', 'Denmark', 'Zimbabwe', 'India', 'United States', 'United Kingdom', 'United States', 'United States', 'Australia', 'South Africa', 'United Kingdom', 'United States', 'Canada', 'United States', 'United Kingdom', 'United States', 'United Kingdom', 'United States', 'United Kingdom', 'China', 'Germany', 'India', 'United States', 'United States', 'United Kingdom', 'United States', 'Greece', 'Italy', 'Germany', 'United States', 'United States', 'United Kingdom', 'United Kingdom', 'United States', 'United States', 'United States', 'United States', 'United States', 'Denmark', 'Canada', 'United States', 'Canada', 'United States', 'United States', 'United States', 'United States', 'India', 'Malaysia', 'United States', 'Mexico', 'United States', 'United Kingdom', 'United States', 'Egypt', 'United States', 'United Kingdom', 'France', 'Belgium', 'Taiwan', 'Australia', 'India', 'Taiwan', 'Japan', 'United States', 'Egypt', 'United States', 'United States', 'Italy', 'France', 'Brazil', 'Germany', 'Hong Kong', 'China', 'United States', 'United States', 'Egypt', 'Egypt', 'Egypt', 'Egypt', 'Egypt', 'Germany', 'United States', 'Canada', 'United States', 'United States', 'United Kingdom', 'Turkey', 'Netherlands', 'Mexico', 'France', 'United States', 'United States', 'United States', 'United States', 'United Kingdom', 'United States', 'United States', 'United States', 'United States', 'Portugal', 'France', 'Poland', 'United States', 'United States', 'United States', 'India', 'India', 'United States', 'India', 'France', 'India', 'India', 'India', 'India', 'India', 'Canada', 'United Kingdom', 'China', 'Canada', 'Indonesia', 'Singapore', 'United States', 'United States', 'United States', 'Canada', 'Italy', 'United Kingdom', 'India', 'India', 'Germany', 'Germany', 'Germany', 'India', 'India', 'United Kingdom', 'Singapore', 'Colombia', 'Italy', 'Nigeria', 'United States', 'Belgium', 'France', 'United States', 'United States', 'United States', 'United States', 'United Kingdom', 'Canada', 'France', 'Belgium', 'Spain', 'United States', 'Spain', 'Mexico', 'United States', 'France', 'Belgium', 'France', 'Netherlands', 'Singapore', 'Spain', 'United States', 'France', 'United States', 'India', 'United States', 'Indonesia', 'Singapore', 'Turkey', 'Turkey', 'Italy', 'India', 'United States', 'United States', 'United States', 'Colombia', 'Mexico', 'Brazil', 'Canada', 'United States', 'South Korea', 'United States', 'Canada', 'Brazil', 'Germany', 'United States', 'United Kingdom', 'United States', 'South Korea', 'India', 'Canada', 'United States', 'United States', 'United States', 'Germany', 'United States', 'United States', 'China', 'United States', 'Ireland', 'United States', 'France', 'China', 'India', 'United States', 'Lebanon', 'United Kingdom', 'United States', 'Pakistan', 'United Arab Emirates', 'United Kingdom', 'United States', 'Germany', 'United Kingdom', 'United States', 'United States', 'South Korea', 'United States', 'China', 'India', 'Japan', 'India', 'United States', 'United States', 'United Kingdom', 'United States', 'Japan', 'United States', 'Canada', 'India', 'United States', 'Argentina', 'Brazil', 'France', 'Poland', 'Germany', 'Denmark', 'United States', 'United States', 'United States', 'United States', 'United States', 'United States', 'United States', 'India', 'India', 'Denmark', 'India', 'United States', 'United States', 'United States', 'India', 'Ireland', 'India', 'India', 'Sweden', 'United States', 'United States', 'United Kingdom', 'United States', 'India', 'Colombia', 'United Kingdom', 'United States', 'India', 'India', 'India', 'India', 'India', 'India', 'India', 'India', 'India', 'India', 'United States', 'United States', 'United Kingdom', 'Spain', 'South Korea', 'Argentina', 'United Kingdom', 'Italy', 'France', 'United States', 'United States', 'United Kingdom', 'Canada', 'United States', 'India', 'Chile', 'United States', 'India', 'United Kingdom', 'Russia', 'Turkey', 'India', 'Brazil', 'Germany', 'United States', 'United Kingdom', 'India', 'Japan', 'United States', 'United Kingdom', 'India', 'India', 'Canada', 'United States', 'United States', 'India', 'Japan', 'India', 'India', 'United States', 'Spain', 'United States', 'India', 'Argentina', 'Spain', 'Japan', 'United States', 'United States', 'United States', 'United States', 'United States', 'United States', 'United Kingdom', 'Ireland', 'Canada', 'United States', 'United States', 'United States', 'United States', 'Spain', 'United Kingdom', 'United States', 'United States', 'United States', 'United States', 'United States', 'Canada', 'South Korea', 'United States', 'Argentina', 'United States', 'Norway', 'United States', 'Japan', 'United States', 'Australia', 'Spain', 'United States', 'Canada', 'United States', 'Turkey', 'United States', 'United States', 'United States', 'United States', 'United States', 'United States', 'Canada', 'Ireland', 'United Kingdom', 'United States', 'France', 'Russia', 'United States', 'United States', 'Mexico', 'United States', 'United States', 'United States', 'United States', 'France', 'South Korea', 'Indonesia', 'Australia', 'Canada', 'United States', 'Japan', 'United States', 'United States', 'Japan', 'United Kingdom', 'United States', 'United States', 'United States', 'Colombia', 'Mexico', 'South Korea', 'United Kingdom', 'United States', 'United States', 'United Kingdom', 'United States', 'United States', 'China', 'United States', 'United States', 'United Kingdom', 'Canada', 'United Kingdom', 'United States', 'United States', 'Japan', 'Japan', 'United States', 'China', 'Japan', 'United States', 'United States', 'United States', 'United States', 'United States', 'United States', 'United States', 'United Kingdom', 'United States', 'United States', 'United States', 'United States', 'United Kingdom', 'United States', 'United States', 'Thailand', 'Italy', 'United States', 'United States', 'Mexico', 'Netherlands', 'China', 'Canada', 'Australia', 'Canada', 'United States', 'Ireland', 'United Kingdom', 'United States', 'Japan', 'United States', 'Japan', 'United States', 'United States', 'Czech Republic', 'United States', 'France', 'South Korea', 'Canada', 'United States', 'United Kingdom', 'United States', 'United Kingdom', 'United Kingdom', 'United Kingdom', 'United States', 'Australia', 'New Zealand', 'United States', 'United States', 'France', 'United Kingdom', 'United States', 'United States', 'United States', 'United States', 'United States', 'India', 'South Korea', 'United States', 'United Kingdom', 'South Korea', 'Colombia', 'Japan', 'United States', 'Argentina', 'United States', 'United States', 'United Kingdom', 'United Kingdom', 'United States', 'France', 'Canada', 'United States', 'Canada', 'United Kingdom', 'Japan', 'Malaysia', 'United States', 'Canada', 'United Kingdom', 'United States', 'Spain', 'Colombia', 'Mexico', 'Japan', 'United Kingdom', 'Poland', 'Canada', 'United Kingdom', 'Spain', 'United States', 'United States', 'Canada', 'United States', 'United States', 'Norway', 'United States', 'United States', 'United States', 'United Kingdom', 'Canada', 'Canada', 'United States', 'United Kingdom', 'United States', 'United States', 'United States', 'Canada', 'Japan', 'United States', 'United States', 'Turkey', 'South Korea', 'United States', 'Canada', 'Japan', 'United States', 'United States', 'United States', 'Australia', 'Japan', 'Japan', 'Japan', 'United States', 'United States', 'Canada', 'Australia', 'Argentina', 'United States', 'Spain', 'United States', 'United States', 'United Kingdom', 'United States', 'United States', 'United States', 'United States', 'Mexico', 'Spain', 'Malta', 'Australia', 'United States', 'Japan', 'Canada', 'Canada', 'United States', 'Canada', 'United States', 'United States', 'Canada', 'Brazil', 'United States', 'Canada', 'United States', 'France', 'United States', 'United States', 'Canada', 'United Kingdom', 'United States', 'Australia', 'United States', 'Canada', 'United States', 'Mexico', 'United States', 'Israel', 'United States', 'United States', 'Spain', 'United States', 'United States', 'United States', 'Mexico', 'United States', 'United States', 'United States', 'Canada', 'United States', 'United States', 'United States', 'Denmark', 'United States', 'United Kingdom', 'United Kingdom', 'United Kingdom', 'United States', 'United States', 'United States', 'United States', 'Brazil', 'Japan', 'South Korea', 'France', 'Japan', 'Canada', 'United States', 'Japan', 'United States', 'Australia', 'United States', 'United Kingdom', 'Taiwan', 'United Kingdom', 'United Kingdom', 'Japan', 'United Kingdom', 'United States', 'United Kingdom', 'India', 'United Kingdom', 'Canada', 'United States', 'Canada', 'United States', 'United States', 'France', 'Canada', 'Japan', 'United States', 'United States', 'United States', 'United Kingdom', 'Australia', 'United States', 'United States', 'Canada', 'United States', 'United States', 'Chile', 'Australia', 'Finland', 'United Kingdom', 'United States', 'Colombia', 'United Kingdom', 'Japan', 'United States', 'India', 'Japan', 'United Kingdom', 'United States', 'United Kingdom', 'Brazil', 'United States', 'United States', 'United Kingdom', 'United States', 'United States', 'Thailand', 'United States', 'Canada', 'Japan', 'Canada', 'Australia', 'United States', 'United States', 'United States', 'Australia', 'Australia', 'United States', 'Spain', 'Canada', 'United Kingdom', 'United States', 'Japan', 'Canada', 'United States', 'Germany', 'United States', 'United States', 'Argentina', 'Japan', 'Thailand', 'United States', 'New Zealand', 'United States', 'United States', 'United States', 'Japan', 'Canada', 'Japan', 'United States', 'United States', 'Italy', 'United States', 'Japan', 'United States', 'United Kingdom', 'Japan', 'France', 'Belgium', 'Spain', 'United States', 'United States', 'United States', 'Japan', 'Denmark', 'Denmark', 'Japan', 'Ukraine', 'Spain', 'United States', 'India', 'United States', 'Canada', 'United States', 'Canada', 'United States', 'United States', 'United States', 'Japan', 'United States', 'Japan', 'Australia', 'France', 'Japan', 'Australia', 'United States', 'Australia', 'United States', 'United Kingdom', 'South Korea', 'United States', 'United States', 'United Kingdom', 'Germany', 'United States', 'France', 'Australia', 'Canada', 'United States', 'United States', 'United States', 'Canada', 'United States', 'United States', 'United States', 'Canada', 'United States', 'Spain', 'United States', 'United States', 'United States', 'Ireland', 'Canada', 'United States', 'United States', 'Canada', 'United States', 'United States', 'Germany', 'Australia', 'United States', 'Sweden', 'Israel', 'United Kingdom', 'United States', 'United States', 'South Korea', 'United States', 'United States', 'United States', 'Spain', 'Israel', 'Turkey', 'United States', 'United States', 'United States', 'Singapore', 'Canada', 'United States', 'Ireland', 'Canada', 'United States', 'United Kingdom', 'United States', 'United Kingdom', 'Australia', 'France', 'Canada', 'Spain', 'United States', 'United States', 'Mexico', 'Italy', 'United Kingdom', 'France', 'United States', 'New Zealand', 'United States', 'United Kingdom', 'Canada', 'United States', 'Turkey', 'Russia', 'Japan', 'Denmark', 'United States', 'Canada', 'United Kingdom', 'United States', 'United States', 'France', 'United States', 'United States', 'United States', 'Ireland', 'United Kingdom', 'United States', 'Colombia', 'United States', 'Spain', 'United Kingdom', 'Japan', 'Canada', 'Netherlands', 'Germany', 'Italy', 'Canada', 'Japan', 'United States', 'United States', 'Croatia', 'United States', 'Japan', 'United States', 'Italy', 'United Kingdom', 'United Kingdom', 'United States', 'United States', 'France', 'Japan', 'United States', 'Japan', 'United States', 'United States', 'Belgium', 'United States', 'United Kingdom', 'United States', 'Australia', 'United States', 'United States', 'United States', 'Germany', 'France', 'United States', 'Ireland', 'Italy', 'United Kingdom', 'Brazil', 'United States', 'United Kingdom', 'Finland', 'France', 'United States', 'Thailand', 'United States', 'Spain', 'United Kingdom', 'Denmark', 'Singapore', 'Canada', 'United States', 'United States', 'France', 'United States', 'United States', 'Russia', 'United States', 'United Kingdom', 'United States', 'Russia', 'United States', 'United States', 'Hungary', 'Ireland', 'Canada', 'United States', 'United States', 'United States', 'United States', 'South Korea', 'Norway', 'Sweden', 'United States', 'United States', 'United States', 'Canada', 'South Korea', 'Canada', 'United States', 'United States', 'Japan', 'United States', 'United States', 'Mexico', 'Colombia', 'Japan', 'United States', 'United States', 'United Kingdom', 'Japan', 'Japan', 'United Kingdom', 'South Korea', 'United States', 'United States', 'United States', 'United Kingdom', 'United Kingdom', 'Israel', 'Canada', 'United Kingdom', 'United Kingdom', 'Japan', 'United Kingdom', 'United States', 'United Kingdom', 'Singapore', 'Canada', 'United States', 'United States', 'United States', 'Australia', 'United States', 'Japan', 'Japan', 'United Kingdom', 'United States', 'Canada', 'United Kingdom', 'United Kingdom', 'United States', 'United States', 'South Korea', 'China', 'United States', 'Spain', 'United States', 'United States', 'United States', 'United States', 'United States', 'Canada', 'South Korea', 'South Korea', 'Canada', 'United States', 'United States', 'United States', 'Brazil', 'South Korea', 'Mexico', 'Japan', 'Germany', 'United States', 'Brazil', 'South Korea', 'Mexico', 'Japan', 'Germany', 'United Kingdom', 'Canada', 'United States', 'Canada', 'United States', 'United States', 'United Kingdom', 'United States', 'Japan', 'United States', 'United States', 'Italy', 'Germany', 'United States', 'United States', 'United Kingdom', 'France', 'South Korea', 'Japan', 'United Kingdom', 'United States', 'United Kingdom', 'United States', 'Ireland', 'United States', 'United States', 'United States', 'India', 'United States', 'United Kingdom', 'United States', 'United States', 'United States', 'United Kingdom', 'Canada', 'United States', 'Australia', 'United Kingdom', 'United Kingdom', 'United Kingdom', 'United Kingdom', 'South Korea', 'South Korea', 'United States', 'France', 'United States', 'United Kingdom', 'United States', 'Canada', 'United States', 'United States', 'United Kingdom', 'Japan', 'Canada', 'United States', 'Mexico', 'United States', 'Spain', 'United States', 'Turkey', 'United States', 'United States', 'South Korea', 'United States', 'United Kingdom', 'South Korea', 'Brazil', 'United States', 'Canada', 'Canada', 'Argentina', 'France', 'Turkey', 'Turkey', 'United States', 'United States', 'United States', 'United States', 'Cyprus', 'Austria', 'Thailand', 'Japan', 'Canada', 'Japan', 'United States', 'Japan', 'United States', 'United States', 'United States', 'Australia', 'United States', 'United States', 'United Kingdom', 'United States']\n"
     ]
    }
   ],
   "source": [
    "num_countries = []\n",
    "all_countries = []\n",
    "for i in data['country'].astype(str):\n",
    "    if i == 'nan':\n",
    "        continue\n",
    "        \n",
    "    else:\n",
    "        for m in i.split(', '):\n",
    "            num_countries.append(m)\n",
    "for i in num_countries:\n",
    "    i = i.replace(',','')\n",
    "    all_countries.append(i)\n",
    "    \n",
    "print(all_countries)"
   ]
  },
  {
   "cell_type": "code",
   "execution_count": 106,
   "metadata": {
    "ExecuteTime": {
     "end_time": "2020-12-08T21:43:34.547924Z",
     "start_time": "2020-12-08T21:43:34.540395Z"
    }
   },
   "outputs": [
    {
     "data": {
      "text/plain": [
       "array(['United States', 'India', 'South Korea', 'China', 'United Kingdom',\n",
       "       'Spain', 'Bulgaria', 'Canada', 'Chile', 'Denmark', 'Sweden',\n",
       "       'Netherlands', 'Belgium', 'France', 'Uruguay', 'Thailand',\n",
       "       'Pakistan', 'Turkey', 'Brazil', 'Italy', 'Indonesia', 'Ireland',\n",
       "       'Hong Kong', 'Morocco', 'Mexico', 'Vietnam', 'Argentina',\n",
       "       'Nigeria', 'Japan', 'Germany', 'Greece', 'Norway', 'Switzerland',\n",
       "       'United Arab Emirates', 'Lebanon', 'Cambodia', 'Russia', 'Poland',\n",
       "       'Israel', 'Australia', 'Portugal', 'Egypt', 'Taiwan', 'Austria',\n",
       "       'Czech Republic', 'Senegal', 'Soviet Union', 'Peru', 'Ukraine',\n",
       "       'Malaysia', 'South Africa', 'Nepal', 'Philippines', 'Serbia',\n",
       "       'Colombia', 'Singapore', 'Luxembourg', 'West Germany',\n",
       "       'Cayman Islands', 'New Zealand', 'Venezuela', 'Jordan',\n",
       "       'Saudi Arabia', 'Iceland', 'Malta', 'Qatar', 'Iran', 'Finland',\n",
       "       'Iraq', 'Liechtenstein', 'Albania', 'Slovakia', 'Samoa', 'Ghana',\n",
       "       'Botswana', 'Hungary', 'Guatemala', 'Malawi', 'Paraguay',\n",
       "       'Somalia', 'Kenya', 'Sudan', 'Sri Lanka', 'Dominican Republic',\n",
       "       'Panama', 'Romania', 'Latvia', 'Uganda', 'Slovenia', 'Croatia',\n",
       "       'Montenegro', 'Bangladesh', 'Vatican City', 'East Germany',\n",
       "       'Afghanistan', 'Georgia', 'Namibia', 'Zimbabwe', 'Cuba',\n",
       "       'Azerbaijan', 'Mauritius', 'Nicaragua', 'Kazakhstan', 'Armenia',\n",
       "       'Mongolia', 'Bermuda', 'Ecuador', 'Syria', 'Kuwait', 'Cyprus'],\n",
       "      dtype=object)"
      ]
     },
     "execution_count": 106,
     "metadata": {},
     "output_type": "execute_result"
    }
   ],
   "source": [
    "all_countries = pd.Series(all_countries)\n",
    "unique_countries = all_countries.unique()\n",
    "unique_countries"
   ]
  },
  {
   "cell_type": "code",
   "execution_count": 176,
   "metadata": {
    "ExecuteTime": {
     "end_time": "2020-12-08T23:09:43.511781Z",
     "start_time": "2020-12-08T23:09:43.478879Z"
    }
   },
   "outputs": [
    {
     "data": {
      "text/html": [
       "<div>\n",
       "<style scoped>\n",
       "    .dataframe tbody tr th:only-of-type {\n",
       "        vertical-align: middle;\n",
       "    }\n",
       "\n",
       "    .dataframe tbody tr th {\n",
       "        vertical-align: top;\n",
       "    }\n",
       "\n",
       "    .dataframe thead th {\n",
       "        text-align: right;\n",
       "    }\n",
       "</style>\n",
       "<table border=\"1\" class=\"dataframe\">\n",
       "  <thead>\n",
       "    <tr style=\"text-align: right;\">\n",
       "      <th></th>\n",
       "      <th>Countries</th>\n",
       "      <th>Count</th>\n",
       "      <th>CODE</th>\n",
       "    </tr>\n",
       "  </thead>\n",
       "  <tbody>\n",
       "    <tr>\n",
       "      <th>0</th>\n",
       "      <td>United States</td>\n",
       "      <td>2610.0</td>\n",
       "      <td>USA</td>\n",
       "    </tr>\n",
       "    <tr>\n",
       "      <th>1</th>\n",
       "      <td>India</td>\n",
       "      <td>838.0</td>\n",
       "      <td>IND</td>\n",
       "    </tr>\n",
       "    <tr>\n",
       "      <th>2</th>\n",
       "      <td>United Kingdom</td>\n",
       "      <td>602.0</td>\n",
       "      <td>GBR</td>\n",
       "    </tr>\n",
       "    <tr>\n",
       "      <th>3</th>\n",
       "      <td>Canada</td>\n",
       "      <td>318.0</td>\n",
       "      <td>CAN</td>\n",
       "    </tr>\n",
       "    <tr>\n",
       "      <th>4</th>\n",
       "      <td>France</td>\n",
       "      <td>271.0</td>\n",
       "      <td>FRA</td>\n",
       "    </tr>\n",
       "    <tr>\n",
       "      <th>...</th>\n",
       "      <td>...</td>\n",
       "      <td>...</td>\n",
       "      <td>...</td>\n",
       "    </tr>\n",
       "    <tr>\n",
       "      <th>105</th>\n",
       "      <td>Armenia</td>\n",
       "      <td>1.0</td>\n",
       "      <td>ARM</td>\n",
       "    </tr>\n",
       "    <tr>\n",
       "      <th>106</th>\n",
       "      <td>Ecuador</td>\n",
       "      <td>1.0</td>\n",
       "      <td>ECU</td>\n",
       "    </tr>\n",
       "    <tr>\n",
       "      <th>107</th>\n",
       "      <td>Mauritius</td>\n",
       "      <td>1.0</td>\n",
       "      <td>MUS</td>\n",
       "    </tr>\n",
       "    <tr>\n",
       "      <th>108</th>\n",
       "      <td>Guatemala</td>\n",
       "      <td>1.0</td>\n",
       "      <td>GTM</td>\n",
       "    </tr>\n",
       "    <tr>\n",
       "      <th>109</th>\n",
       "      <td>Samoa</td>\n",
       "      <td>1.0</td>\n",
       "      <td>WSM</td>\n",
       "    </tr>\n",
       "  </tbody>\n",
       "</table>\n",
       "<p>110 rows × 3 columns</p>\n",
       "</div>"
      ],
      "text/plain": [
       "          Countries   Count CODE\n",
       "0     United States  2610.0  USA\n",
       "1             India   838.0  IND\n",
       "2    United Kingdom   602.0  GBR\n",
       "3            Canada   318.0  CAN\n",
       "4            France   271.0  FRA\n",
       "..              ...     ...  ...\n",
       "105         Armenia     1.0  ARM\n",
       "106         Ecuador     1.0  ECU\n",
       "107       Mauritius     1.0  MUS\n",
       "108       Guatemala     1.0  GTM\n",
       "109           Samoa     1.0  WSM\n",
       "\n",
       "[110 rows x 3 columns]"
      ]
     },
     "execution_count": 176,
     "metadata": {},
     "output_type": "execute_result"
    }
   ],
   "source": [
    "all_countries.describe()\n",
    "num_media_by_country = all_countries.value_counts().astype(float)\n",
    "num_media_by_country = pd.DataFrame(num_media_by_country)\n",
    "num_media_by_country = num_media_by_country.rename(columns={0:'Count'})\n",
    "num_media_by_country = num_media_by_country.reset_index().rename(columns={'index':'Countries'})\n",
    "c = df.drop('GDP (BILLIONS)',axis=1)\n",
    "c = c.rename(columns={'COUNTRY':'Countries'})\n",
    "country_with_code = pd.merge(num_media_by_country,c,on='Countries',how='left')\n",
    "country_with_code"
   ]
  },
  {
   "cell_type": "code",
   "execution_count": 172,
   "metadata": {
    "ExecuteTime": {
     "end_time": "2020-12-08T23:08:59.132535Z",
     "start_time": "2020-12-08T23:08:59.112006Z"
    }
   },
   "outputs": [
    {
     "data": {
      "application/vnd.plotly.v1+json": {
       "config": {
        "plotlyServerURL": "https://plot.ly"
       },
       "data": [
        {
         "autocolorscale": false,
         "colorbar": {
          "title": {
           "text": "Total Media"
          }
         },
         "colorscale": [
          [
           0,
           "rgb(3, 35, 51)"
          ],
          [
           0.09090909090909091,
           "rgb(13, 48, 100)"
          ],
          [
           0.18181818181818182,
           "rgb(53, 50, 155)"
          ],
          [
           0.2727272727272727,
           "rgb(93, 62, 153)"
          ],
          [
           0.36363636363636365,
           "rgb(126, 77, 143)"
          ],
          [
           0.45454545454545453,
           "rgb(158, 89, 135)"
          ],
          [
           0.5454545454545454,
           "rgb(193, 100, 121)"
          ],
          [
           0.6363636363636364,
           "rgb(225, 113, 97)"
          ],
          [
           0.7272727272727273,
           "rgb(246, 139, 69)"
          ],
          [
           0.8181818181818182,
           "rgb(251, 173, 60)"
          ],
          [
           0.9090909090909091,
           "rgb(246, 211, 70)"
          ],
          [
           1,
           "rgb(231, 250, 90)"
          ]
         ],
         "locations": [
          "USA",
          "IND",
          "GBR",
          "CAN",
          "FRA",
          "JPN",
          "ESP",
          null,
          "DEU",
          "MEX",
          "AUS",
          "CHN",
          "HKG",
          "TUR",
          "TWN",
          "ARG",
          "ITA",
          "BRA",
          "BEL",
          "THA",
          "EGY",
          "IDN",
          "PHL",
          "DNK",
          "NLD",
          "COL",
          "NGA",
          "IRL",
          "SWE",
          "ZAF",
          "SGP",
          "POL",
          "ISR",
          "CHL",
          "PAK",
          "NZL",
          "RUS",
          "NOR",
          "ARE",
          "MYS",
          "CHE",
          "CZE",
          "AUT",
          "PER",
          "URY",
          "FIN",
          "LBN",
          "GRC",
          "BGR",
          "LUX",
          "MAR",
          "ISL",
          "QAT",
          "ROU",
          "JOR",
          null,
          "SRB",
          "HUN",
          "HRV",
          "VNM",
          "PRT",
          "IRN",
          "KHM",
          "SVN",
          "VEN",
          "BGD",
          null,
          "UKR",
          "NPL",
          "SEN",
          "MLT",
          "SAU",
          "IRQ",
          "GHA",
          "DOM",
          "GEO",
          "ZWE",
          "MWI",
          "AZE",
          "MNG",
          "ALB",
          "AFG",
          "KWT",
          "PRY",
          null,
          "UGA",
          "BWA",
          "LIE",
          "PAN",
          "SDN",
          "CYM",
          "CUB",
          "MNE",
          "SYR",
          "KAZ",
          null,
          "BMU",
          "SOM",
          "LKA",
          "NAM",
          "KEN",
          "NIC",
          "LVA",
          "CYP",
          "SVK",
          "ARM",
          "ECU",
          "MUS",
          "GTM",
          "WSM"
         ],
         "marker": {
          "line": {
           "color": "darkgray",
           "width": 0.5
          }
         },
         "reversescale": true,
         "text": "Total Media Available",
         "type": "choropleth",
         "z": [
          2610,
          838,
          602,
          318,
          271,
          231,
          178,
          162,
          151,
          129,
          126,
          120,
          97,
          87,
          75,
          68,
          67,
          66,
          66,
          56,
          54,
          52,
          47,
          38,
          37,
          36,
          36,
          33,
          33,
          30,
          30,
          27,
          26,
          23,
          23,
          23,
          21,
          21,
          21,
          21,
          15,
          15,
          10,
          9,
          9,
          9,
          9,
          8,
          8,
          7,
          6,
          6,
          6,
          6,
          6,
          5,
          5,
          5,
          4,
          4,
          4,
          4,
          3,
          3,
          3,
          3,
          3,
          3,
          2,
          2,
          2,
          2,
          2,
          2,
          2,
          2,
          2,
          1,
          1,
          1,
          1,
          1,
          1,
          1,
          1,
          1,
          1,
          1,
          1,
          1,
          1,
          1,
          1,
          1,
          1,
          1,
          1,
          1,
          1,
          1,
          1,
          1,
          1,
          1,
          1,
          1,
          1,
          1,
          1,
          1
         ]
        }
       ],
       "layout": {
        "annotations": [
         {
          "showarrow": false,
          "text": "Source: <a href=\"https://www.kaggle.com/shivamb/netflix-shows\">            Netflix Movies and TV Shows - 2019 </a>",
          "x": 0.55,
          "xref": "paper",
          "y": 0.1,
          "yref": "paper"
         }
        ],
        "geo": {
         "projection": {
          "type": "equirectangular"
         },
         "showcoastlines": false,
         "showframe": false
        },
        "template": {
         "data": {
          "bar": [
           {
            "error_x": {
             "color": "#2a3f5f"
            },
            "error_y": {
             "color": "#2a3f5f"
            },
            "marker": {
             "line": {
              "color": "#E5ECF6",
              "width": 0.5
             }
            },
            "type": "bar"
           }
          ],
          "barpolar": [
           {
            "marker": {
             "line": {
              "color": "#E5ECF6",
              "width": 0.5
             }
            },
            "type": "barpolar"
           }
          ],
          "carpet": [
           {
            "aaxis": {
             "endlinecolor": "#2a3f5f",
             "gridcolor": "white",
             "linecolor": "white",
             "minorgridcolor": "white",
             "startlinecolor": "#2a3f5f"
            },
            "baxis": {
             "endlinecolor": "#2a3f5f",
             "gridcolor": "white",
             "linecolor": "white",
             "minorgridcolor": "white",
             "startlinecolor": "#2a3f5f"
            },
            "type": "carpet"
           }
          ],
          "choropleth": [
           {
            "colorbar": {
             "outlinewidth": 0,
             "ticks": ""
            },
            "type": "choropleth"
           }
          ],
          "contour": [
           {
            "colorbar": {
             "outlinewidth": 0,
             "ticks": ""
            },
            "colorscale": [
             [
              0,
              "#0d0887"
             ],
             [
              0.1111111111111111,
              "#46039f"
             ],
             [
              0.2222222222222222,
              "#7201a8"
             ],
             [
              0.3333333333333333,
              "#9c179e"
             ],
             [
              0.4444444444444444,
              "#bd3786"
             ],
             [
              0.5555555555555556,
              "#d8576b"
             ],
             [
              0.6666666666666666,
              "#ed7953"
             ],
             [
              0.7777777777777778,
              "#fb9f3a"
             ],
             [
              0.8888888888888888,
              "#fdca26"
             ],
             [
              1,
              "#f0f921"
             ]
            ],
            "type": "contour"
           }
          ],
          "contourcarpet": [
           {
            "colorbar": {
             "outlinewidth": 0,
             "ticks": ""
            },
            "type": "contourcarpet"
           }
          ],
          "heatmap": [
           {
            "colorbar": {
             "outlinewidth": 0,
             "ticks": ""
            },
            "colorscale": [
             [
              0,
              "#0d0887"
             ],
             [
              0.1111111111111111,
              "#46039f"
             ],
             [
              0.2222222222222222,
              "#7201a8"
             ],
             [
              0.3333333333333333,
              "#9c179e"
             ],
             [
              0.4444444444444444,
              "#bd3786"
             ],
             [
              0.5555555555555556,
              "#d8576b"
             ],
             [
              0.6666666666666666,
              "#ed7953"
             ],
             [
              0.7777777777777778,
              "#fb9f3a"
             ],
             [
              0.8888888888888888,
              "#fdca26"
             ],
             [
              1,
              "#f0f921"
             ]
            ],
            "type": "heatmap"
           }
          ],
          "heatmapgl": [
           {
            "colorbar": {
             "outlinewidth": 0,
             "ticks": ""
            },
            "colorscale": [
             [
              0,
              "#0d0887"
             ],
             [
              0.1111111111111111,
              "#46039f"
             ],
             [
              0.2222222222222222,
              "#7201a8"
             ],
             [
              0.3333333333333333,
              "#9c179e"
             ],
             [
              0.4444444444444444,
              "#bd3786"
             ],
             [
              0.5555555555555556,
              "#d8576b"
             ],
             [
              0.6666666666666666,
              "#ed7953"
             ],
             [
              0.7777777777777778,
              "#fb9f3a"
             ],
             [
              0.8888888888888888,
              "#fdca26"
             ],
             [
              1,
              "#f0f921"
             ]
            ],
            "type": "heatmapgl"
           }
          ],
          "histogram": [
           {
            "marker": {
             "colorbar": {
              "outlinewidth": 0,
              "ticks": ""
             }
            },
            "type": "histogram"
           }
          ],
          "histogram2d": [
           {
            "colorbar": {
             "outlinewidth": 0,
             "ticks": ""
            },
            "colorscale": [
             [
              0,
              "#0d0887"
             ],
             [
              0.1111111111111111,
              "#46039f"
             ],
             [
              0.2222222222222222,
              "#7201a8"
             ],
             [
              0.3333333333333333,
              "#9c179e"
             ],
             [
              0.4444444444444444,
              "#bd3786"
             ],
             [
              0.5555555555555556,
              "#d8576b"
             ],
             [
              0.6666666666666666,
              "#ed7953"
             ],
             [
              0.7777777777777778,
              "#fb9f3a"
             ],
             [
              0.8888888888888888,
              "#fdca26"
             ],
             [
              1,
              "#f0f921"
             ]
            ],
            "type": "histogram2d"
           }
          ],
          "histogram2dcontour": [
           {
            "colorbar": {
             "outlinewidth": 0,
             "ticks": ""
            },
            "colorscale": [
             [
              0,
              "#0d0887"
             ],
             [
              0.1111111111111111,
              "#46039f"
             ],
             [
              0.2222222222222222,
              "#7201a8"
             ],
             [
              0.3333333333333333,
              "#9c179e"
             ],
             [
              0.4444444444444444,
              "#bd3786"
             ],
             [
              0.5555555555555556,
              "#d8576b"
             ],
             [
              0.6666666666666666,
              "#ed7953"
             ],
             [
              0.7777777777777778,
              "#fb9f3a"
             ],
             [
              0.8888888888888888,
              "#fdca26"
             ],
             [
              1,
              "#f0f921"
             ]
            ],
            "type": "histogram2dcontour"
           }
          ],
          "mesh3d": [
           {
            "colorbar": {
             "outlinewidth": 0,
             "ticks": ""
            },
            "type": "mesh3d"
           }
          ],
          "parcoords": [
           {
            "line": {
             "colorbar": {
              "outlinewidth": 0,
              "ticks": ""
             }
            },
            "type": "parcoords"
           }
          ],
          "pie": [
           {
            "automargin": true,
            "type": "pie"
           }
          ],
          "scatter": [
           {
            "marker": {
             "colorbar": {
              "outlinewidth": 0,
              "ticks": ""
             }
            },
            "type": "scatter"
           }
          ],
          "scatter3d": [
           {
            "line": {
             "colorbar": {
              "outlinewidth": 0,
              "ticks": ""
             }
            },
            "marker": {
             "colorbar": {
              "outlinewidth": 0,
              "ticks": ""
             }
            },
            "type": "scatter3d"
           }
          ],
          "scattercarpet": [
           {
            "marker": {
             "colorbar": {
              "outlinewidth": 0,
              "ticks": ""
             }
            },
            "type": "scattercarpet"
           }
          ],
          "scattergeo": [
           {
            "marker": {
             "colorbar": {
              "outlinewidth": 0,
              "ticks": ""
             }
            },
            "type": "scattergeo"
           }
          ],
          "scattergl": [
           {
            "marker": {
             "colorbar": {
              "outlinewidth": 0,
              "ticks": ""
             }
            },
            "type": "scattergl"
           }
          ],
          "scattermapbox": [
           {
            "marker": {
             "colorbar": {
              "outlinewidth": 0,
              "ticks": ""
             }
            },
            "type": "scattermapbox"
           }
          ],
          "scatterpolar": [
           {
            "marker": {
             "colorbar": {
              "outlinewidth": 0,
              "ticks": ""
             }
            },
            "type": "scatterpolar"
           }
          ],
          "scatterpolargl": [
           {
            "marker": {
             "colorbar": {
              "outlinewidth": 0,
              "ticks": ""
             }
            },
            "type": "scatterpolargl"
           }
          ],
          "scatterternary": [
           {
            "marker": {
             "colorbar": {
              "outlinewidth": 0,
              "ticks": ""
             }
            },
            "type": "scatterternary"
           }
          ],
          "surface": [
           {
            "colorbar": {
             "outlinewidth": 0,
             "ticks": ""
            },
            "colorscale": [
             [
              0,
              "#0d0887"
             ],
             [
              0.1111111111111111,
              "#46039f"
             ],
             [
              0.2222222222222222,
              "#7201a8"
             ],
             [
              0.3333333333333333,
              "#9c179e"
             ],
             [
              0.4444444444444444,
              "#bd3786"
             ],
             [
              0.5555555555555556,
              "#d8576b"
             ],
             [
              0.6666666666666666,
              "#ed7953"
             ],
             [
              0.7777777777777778,
              "#fb9f3a"
             ],
             [
              0.8888888888888888,
              "#fdca26"
             ],
             [
              1,
              "#f0f921"
             ]
            ],
            "type": "surface"
           }
          ],
          "table": [
           {
            "cells": {
             "fill": {
              "color": "#EBF0F8"
             },
             "line": {
              "color": "white"
             }
            },
            "header": {
             "fill": {
              "color": "#C8D4E3"
             },
             "line": {
              "color": "white"
             }
            },
            "type": "table"
           }
          ]
         },
         "layout": {
          "annotationdefaults": {
           "arrowcolor": "#2a3f5f",
           "arrowhead": 0,
           "arrowwidth": 1
          },
          "coloraxis": {
           "colorbar": {
            "outlinewidth": 0,
            "ticks": ""
           }
          },
          "colorscale": {
           "diverging": [
            [
             0,
             "#8e0152"
            ],
            [
             0.1,
             "#c51b7d"
            ],
            [
             0.2,
             "#de77ae"
            ],
            [
             0.3,
             "#f1b6da"
            ],
            [
             0.4,
             "#fde0ef"
            ],
            [
             0.5,
             "#f7f7f7"
            ],
            [
             0.6,
             "#e6f5d0"
            ],
            [
             0.7,
             "#b8e186"
            ],
            [
             0.8,
             "#7fbc41"
            ],
            [
             0.9,
             "#4d9221"
            ],
            [
             1,
             "#276419"
            ]
           ],
           "sequential": [
            [
             0,
             "#0d0887"
            ],
            [
             0.1111111111111111,
             "#46039f"
            ],
            [
             0.2222222222222222,
             "#7201a8"
            ],
            [
             0.3333333333333333,
             "#9c179e"
            ],
            [
             0.4444444444444444,
             "#bd3786"
            ],
            [
             0.5555555555555556,
             "#d8576b"
            ],
            [
             0.6666666666666666,
             "#ed7953"
            ],
            [
             0.7777777777777778,
             "#fb9f3a"
            ],
            [
             0.8888888888888888,
             "#fdca26"
            ],
            [
             1,
             "#f0f921"
            ]
           ],
           "sequentialminus": [
            [
             0,
             "#0d0887"
            ],
            [
             0.1111111111111111,
             "#46039f"
            ],
            [
             0.2222222222222222,
             "#7201a8"
            ],
            [
             0.3333333333333333,
             "#9c179e"
            ],
            [
             0.4444444444444444,
             "#bd3786"
            ],
            [
             0.5555555555555556,
             "#d8576b"
            ],
            [
             0.6666666666666666,
             "#ed7953"
            ],
            [
             0.7777777777777778,
             "#fb9f3a"
            ],
            [
             0.8888888888888888,
             "#fdca26"
            ],
            [
             1,
             "#f0f921"
            ]
           ]
          },
          "colorway": [
           "#636efa",
           "#EF553B",
           "#00cc96",
           "#ab63fa",
           "#FFA15A",
           "#19d3f3",
           "#FF6692",
           "#B6E880",
           "#FF97FF",
           "#FECB52"
          ],
          "font": {
           "color": "#2a3f5f"
          },
          "geo": {
           "bgcolor": "white",
           "lakecolor": "white",
           "landcolor": "#E5ECF6",
           "showlakes": true,
           "showland": true,
           "subunitcolor": "white"
          },
          "hoverlabel": {
           "align": "left"
          },
          "hovermode": "closest",
          "mapbox": {
           "style": "light"
          },
          "paper_bgcolor": "white",
          "plot_bgcolor": "#E5ECF6",
          "polar": {
           "angularaxis": {
            "gridcolor": "white",
            "linecolor": "white",
            "ticks": ""
           },
           "bgcolor": "#E5ECF6",
           "radialaxis": {
            "gridcolor": "white",
            "linecolor": "white",
            "ticks": ""
           }
          },
          "scene": {
           "xaxis": {
            "backgroundcolor": "#E5ECF6",
            "gridcolor": "white",
            "gridwidth": 2,
            "linecolor": "white",
            "showbackground": true,
            "ticks": "",
            "zerolinecolor": "white"
           },
           "yaxis": {
            "backgroundcolor": "#E5ECF6",
            "gridcolor": "white",
            "gridwidth": 2,
            "linecolor": "white",
            "showbackground": true,
            "ticks": "",
            "zerolinecolor": "white"
           },
           "zaxis": {
            "backgroundcolor": "#E5ECF6",
            "gridcolor": "white",
            "gridwidth": 2,
            "linecolor": "white",
            "showbackground": true,
            "ticks": "",
            "zerolinecolor": "white"
           }
          },
          "shapedefaults": {
           "line": {
            "color": "#2a3f5f"
           }
          },
          "ternary": {
           "aaxis": {
            "gridcolor": "white",
            "linecolor": "white",
            "ticks": ""
           },
           "baxis": {
            "gridcolor": "white",
            "linecolor": "white",
            "ticks": ""
           },
           "bgcolor": "#E5ECF6",
           "caxis": {
            "gridcolor": "white",
            "linecolor": "white",
            "ticks": ""
           }
          },
          "title": {
           "x": 0.05
          },
          "xaxis": {
           "automargin": true,
           "gridcolor": "white",
           "linecolor": "white",
           "ticks": "",
           "title": {
            "standoff": 15
           },
           "zerolinecolor": "white",
           "zerolinewidth": 2
          },
          "yaxis": {
           "automargin": true,
           "gridcolor": "white",
           "linecolor": "white",
           "ticks": "",
           "title": {
            "standoff": 15
           },
           "zerolinecolor": "white",
           "zerolinewidth": 2
          }
         }
        },
        "title": {
         "text": "Netflix Movies and TV Shows"
        }
       }
      },
      "text/html": [
       "<div>                            <div id=\"ce8b06df-d500-45c0-8b64-b75d5516c99d\" class=\"plotly-graph-div\" style=\"height:525px; width:100%;\"></div>            <script type=\"text/javascript\">                require([\"plotly\"], function(Plotly) {                    window.PLOTLYENV=window.PLOTLYENV || {};                                    if (document.getElementById(\"ce8b06df-d500-45c0-8b64-b75d5516c99d\")) {                    Plotly.newPlot(                        \"ce8b06df-d500-45c0-8b64-b75d5516c99d\",                        [{\"autocolorscale\": false, \"colorbar\": {\"title\": {\"text\": \"Total Media\"}}, \"colorscale\": [[0.0, \"rgb(3, 35, 51)\"], [0.09090909090909091, \"rgb(13, 48, 100)\"], [0.18181818181818182, \"rgb(53, 50, 155)\"], [0.2727272727272727, \"rgb(93, 62, 153)\"], [0.36363636363636365, \"rgb(126, 77, 143)\"], [0.45454545454545453, \"rgb(158, 89, 135)\"], [0.5454545454545454, \"rgb(193, 100, 121)\"], [0.6363636363636364, \"rgb(225, 113, 97)\"], [0.7272727272727273, \"rgb(246, 139, 69)\"], [0.8181818181818182, \"rgb(251, 173, 60)\"], [0.9090909090909091, \"rgb(246, 211, 70)\"], [1.0, \"rgb(231, 250, 90)\"]], \"locations\": [\"USA\", \"IND\", \"GBR\", \"CAN\", \"FRA\", \"JPN\", \"ESP\", null, \"DEU\", \"MEX\", \"AUS\", \"CHN\", \"HKG\", \"TUR\", \"TWN\", \"ARG\", \"ITA\", \"BRA\", \"BEL\", \"THA\", \"EGY\", \"IDN\", \"PHL\", \"DNK\", \"NLD\", \"COL\", \"NGA\", \"IRL\", \"SWE\", \"ZAF\", \"SGP\", \"POL\", \"ISR\", \"CHL\", \"PAK\", \"NZL\", \"RUS\", \"NOR\", \"ARE\", \"MYS\", \"CHE\", \"CZE\", \"AUT\", \"PER\", \"URY\", \"FIN\", \"LBN\", \"GRC\", \"BGR\", \"LUX\", \"MAR\", \"ISL\", \"QAT\", \"ROU\", \"JOR\", null, \"SRB\", \"HUN\", \"HRV\", \"VNM\", \"PRT\", \"IRN\", \"KHM\", \"SVN\", \"VEN\", \"BGD\", null, \"UKR\", \"NPL\", \"SEN\", \"MLT\", \"SAU\", \"IRQ\", \"GHA\", \"DOM\", \"GEO\", \"ZWE\", \"MWI\", \"AZE\", \"MNG\", \"ALB\", \"AFG\", \"KWT\", \"PRY\", null, \"UGA\", \"BWA\", \"LIE\", \"PAN\", \"SDN\", \"CYM\", \"CUB\", \"MNE\", \"SYR\", \"KAZ\", null, \"BMU\", \"SOM\", \"LKA\", \"NAM\", \"KEN\", \"NIC\", \"LVA\", \"CYP\", \"SVK\", \"ARM\", \"ECU\", \"MUS\", \"GTM\", \"WSM\"], \"marker\": {\"line\": {\"color\": \"darkgray\", \"width\": 0.5}}, \"reversescale\": true, \"text\": \"Total Media Available\", \"type\": \"choropleth\", \"z\": [2610.0, 838.0, 602.0, 318.0, 271.0, 231.0, 178.0, 162.0, 151.0, 129.0, 126.0, 120.0, 97.0, 87.0, 75.0, 68.0, 67.0, 66.0, 66.0, 56.0, 54.0, 52.0, 47.0, 38.0, 37.0, 36.0, 36.0, 33.0, 33.0, 30.0, 30.0, 27.0, 26.0, 23.0, 23.0, 23.0, 21.0, 21.0, 21.0, 21.0, 15.0, 15.0, 10.0, 9.0, 9.0, 9.0, 9.0, 8.0, 8.0, 7.0, 6.0, 6.0, 6.0, 6.0, 6.0, 5.0, 5.0, 5.0, 4.0, 4.0, 4.0, 4.0, 3.0, 3.0, 3.0, 3.0, 3.0, 3.0, 2.0, 2.0, 2.0, 2.0, 2.0, 2.0, 2.0, 2.0, 2.0, 1.0, 1.0, 1.0, 1.0, 1.0, 1.0, 1.0, 1.0, 1.0, 1.0, 1.0, 1.0, 1.0, 1.0, 1.0, 1.0, 1.0, 1.0, 1.0, 1.0, 1.0, 1.0, 1.0, 1.0, 1.0, 1.0, 1.0, 1.0, 1.0, 1.0, 1.0, 1.0, 1.0]}],                        {\"annotations\": [{\"showarrow\": false, \"text\": \"Source: <a href=\\\"https://www.kaggle.com/shivamb/netflix-shows\\\">            Netflix Movies and TV Shows - 2019 </a>\", \"x\": 0.55, \"xref\": \"paper\", \"y\": 0.1, \"yref\": \"paper\"}], \"geo\": {\"projection\": {\"type\": \"equirectangular\"}, \"showcoastlines\": false, \"showframe\": false}, \"template\": {\"data\": {\"bar\": [{\"error_x\": {\"color\": \"#2a3f5f\"}, \"error_y\": {\"color\": \"#2a3f5f\"}, \"marker\": {\"line\": {\"color\": \"#E5ECF6\", \"width\": 0.5}}, \"type\": \"bar\"}], \"barpolar\": [{\"marker\": {\"line\": {\"color\": \"#E5ECF6\", \"width\": 0.5}}, \"type\": \"barpolar\"}], \"carpet\": [{\"aaxis\": {\"endlinecolor\": \"#2a3f5f\", \"gridcolor\": \"white\", \"linecolor\": \"white\", \"minorgridcolor\": \"white\", \"startlinecolor\": \"#2a3f5f\"}, \"baxis\": {\"endlinecolor\": \"#2a3f5f\", \"gridcolor\": \"white\", \"linecolor\": \"white\", \"minorgridcolor\": \"white\", \"startlinecolor\": \"#2a3f5f\"}, \"type\": \"carpet\"}], \"choropleth\": [{\"colorbar\": {\"outlinewidth\": 0, \"ticks\": \"\"}, \"type\": \"choropleth\"}], \"contour\": [{\"colorbar\": {\"outlinewidth\": 0, \"ticks\": \"\"}, \"colorscale\": [[0.0, \"#0d0887\"], [0.1111111111111111, \"#46039f\"], [0.2222222222222222, \"#7201a8\"], [0.3333333333333333, \"#9c179e\"], [0.4444444444444444, \"#bd3786\"], [0.5555555555555556, \"#d8576b\"], [0.6666666666666666, \"#ed7953\"], [0.7777777777777778, \"#fb9f3a\"], [0.8888888888888888, \"#fdca26\"], [1.0, \"#f0f921\"]], \"type\": \"contour\"}], \"contourcarpet\": [{\"colorbar\": {\"outlinewidth\": 0, \"ticks\": \"\"}, \"type\": \"contourcarpet\"}], \"heatmap\": [{\"colorbar\": {\"outlinewidth\": 0, \"ticks\": \"\"}, \"colorscale\": [[0.0, \"#0d0887\"], [0.1111111111111111, \"#46039f\"], [0.2222222222222222, \"#7201a8\"], [0.3333333333333333, \"#9c179e\"], [0.4444444444444444, \"#bd3786\"], [0.5555555555555556, \"#d8576b\"], [0.6666666666666666, \"#ed7953\"], [0.7777777777777778, \"#fb9f3a\"], [0.8888888888888888, \"#fdca26\"], [1.0, \"#f0f921\"]], \"type\": \"heatmap\"}], \"heatmapgl\": [{\"colorbar\": {\"outlinewidth\": 0, \"ticks\": \"\"}, \"colorscale\": [[0.0, \"#0d0887\"], [0.1111111111111111, \"#46039f\"], [0.2222222222222222, \"#7201a8\"], [0.3333333333333333, \"#9c179e\"], [0.4444444444444444, \"#bd3786\"], [0.5555555555555556, \"#d8576b\"], [0.6666666666666666, \"#ed7953\"], [0.7777777777777778, \"#fb9f3a\"], [0.8888888888888888, \"#fdca26\"], [1.0, \"#f0f921\"]], \"type\": \"heatmapgl\"}], \"histogram\": [{\"marker\": {\"colorbar\": {\"outlinewidth\": 0, \"ticks\": \"\"}}, \"type\": \"histogram\"}], \"histogram2d\": [{\"colorbar\": {\"outlinewidth\": 0, \"ticks\": \"\"}, \"colorscale\": [[0.0, \"#0d0887\"], [0.1111111111111111, \"#46039f\"], [0.2222222222222222, \"#7201a8\"], [0.3333333333333333, \"#9c179e\"], [0.4444444444444444, \"#bd3786\"], [0.5555555555555556, \"#d8576b\"], [0.6666666666666666, \"#ed7953\"], [0.7777777777777778, \"#fb9f3a\"], [0.8888888888888888, \"#fdca26\"], [1.0, \"#f0f921\"]], \"type\": \"histogram2d\"}], \"histogram2dcontour\": [{\"colorbar\": {\"outlinewidth\": 0, \"ticks\": \"\"}, \"colorscale\": [[0.0, \"#0d0887\"], [0.1111111111111111, \"#46039f\"], [0.2222222222222222, \"#7201a8\"], [0.3333333333333333, \"#9c179e\"], [0.4444444444444444, \"#bd3786\"], [0.5555555555555556, \"#d8576b\"], [0.6666666666666666, \"#ed7953\"], [0.7777777777777778, \"#fb9f3a\"], [0.8888888888888888, \"#fdca26\"], [1.0, \"#f0f921\"]], \"type\": \"histogram2dcontour\"}], \"mesh3d\": [{\"colorbar\": {\"outlinewidth\": 0, \"ticks\": \"\"}, \"type\": \"mesh3d\"}], \"parcoords\": [{\"line\": {\"colorbar\": {\"outlinewidth\": 0, \"ticks\": \"\"}}, \"type\": \"parcoords\"}], \"pie\": [{\"automargin\": true, \"type\": \"pie\"}], \"scatter\": [{\"marker\": {\"colorbar\": {\"outlinewidth\": 0, \"ticks\": \"\"}}, \"type\": \"scatter\"}], \"scatter3d\": [{\"line\": {\"colorbar\": {\"outlinewidth\": 0, \"ticks\": \"\"}}, \"marker\": {\"colorbar\": {\"outlinewidth\": 0, \"ticks\": \"\"}}, \"type\": \"scatter3d\"}], \"scattercarpet\": [{\"marker\": {\"colorbar\": {\"outlinewidth\": 0, \"ticks\": \"\"}}, \"type\": \"scattercarpet\"}], \"scattergeo\": [{\"marker\": {\"colorbar\": {\"outlinewidth\": 0, \"ticks\": \"\"}}, \"type\": \"scattergeo\"}], \"scattergl\": [{\"marker\": {\"colorbar\": {\"outlinewidth\": 0, \"ticks\": \"\"}}, \"type\": \"scattergl\"}], \"scattermapbox\": [{\"marker\": {\"colorbar\": {\"outlinewidth\": 0, \"ticks\": \"\"}}, \"type\": \"scattermapbox\"}], \"scatterpolar\": [{\"marker\": {\"colorbar\": {\"outlinewidth\": 0, \"ticks\": \"\"}}, \"type\": \"scatterpolar\"}], \"scatterpolargl\": [{\"marker\": {\"colorbar\": {\"outlinewidth\": 0, \"ticks\": \"\"}}, \"type\": \"scatterpolargl\"}], \"scatterternary\": [{\"marker\": {\"colorbar\": {\"outlinewidth\": 0, \"ticks\": \"\"}}, \"type\": \"scatterternary\"}], \"surface\": [{\"colorbar\": {\"outlinewidth\": 0, \"ticks\": \"\"}, \"colorscale\": [[0.0, \"#0d0887\"], [0.1111111111111111, \"#46039f\"], [0.2222222222222222, \"#7201a8\"], [0.3333333333333333, \"#9c179e\"], [0.4444444444444444, \"#bd3786\"], [0.5555555555555556, \"#d8576b\"], [0.6666666666666666, \"#ed7953\"], [0.7777777777777778, \"#fb9f3a\"], [0.8888888888888888, \"#fdca26\"], [1.0, \"#f0f921\"]], \"type\": \"surface\"}], \"table\": [{\"cells\": {\"fill\": {\"color\": \"#EBF0F8\"}, \"line\": {\"color\": \"white\"}}, \"header\": {\"fill\": {\"color\": \"#C8D4E3\"}, \"line\": {\"color\": \"white\"}}, \"type\": \"table\"}]}, \"layout\": {\"annotationdefaults\": {\"arrowcolor\": \"#2a3f5f\", \"arrowhead\": 0, \"arrowwidth\": 1}, \"coloraxis\": {\"colorbar\": {\"outlinewidth\": 0, \"ticks\": \"\"}}, \"colorscale\": {\"diverging\": [[0, \"#8e0152\"], [0.1, \"#c51b7d\"], [0.2, \"#de77ae\"], [0.3, \"#f1b6da\"], [0.4, \"#fde0ef\"], [0.5, \"#f7f7f7\"], [0.6, \"#e6f5d0\"], [0.7, \"#b8e186\"], [0.8, \"#7fbc41\"], [0.9, \"#4d9221\"], [1, \"#276419\"]], \"sequential\": [[0.0, \"#0d0887\"], [0.1111111111111111, \"#46039f\"], [0.2222222222222222, \"#7201a8\"], [0.3333333333333333, \"#9c179e\"], [0.4444444444444444, \"#bd3786\"], [0.5555555555555556, \"#d8576b\"], [0.6666666666666666, \"#ed7953\"], [0.7777777777777778, \"#fb9f3a\"], [0.8888888888888888, \"#fdca26\"], [1.0, \"#f0f921\"]], \"sequentialminus\": [[0.0, \"#0d0887\"], [0.1111111111111111, \"#46039f\"], [0.2222222222222222, \"#7201a8\"], [0.3333333333333333, \"#9c179e\"], [0.4444444444444444, \"#bd3786\"], [0.5555555555555556, \"#d8576b\"], [0.6666666666666666, \"#ed7953\"], [0.7777777777777778, \"#fb9f3a\"], [0.8888888888888888, \"#fdca26\"], [1.0, \"#f0f921\"]]}, \"colorway\": [\"#636efa\", \"#EF553B\", \"#00cc96\", \"#ab63fa\", \"#FFA15A\", \"#19d3f3\", \"#FF6692\", \"#B6E880\", \"#FF97FF\", \"#FECB52\"], \"font\": {\"color\": \"#2a3f5f\"}, \"geo\": {\"bgcolor\": \"white\", \"lakecolor\": \"white\", \"landcolor\": \"#E5ECF6\", \"showlakes\": true, \"showland\": true, \"subunitcolor\": \"white\"}, \"hoverlabel\": {\"align\": \"left\"}, \"hovermode\": \"closest\", \"mapbox\": {\"style\": \"light\"}, \"paper_bgcolor\": \"white\", \"plot_bgcolor\": \"#E5ECF6\", \"polar\": {\"angularaxis\": {\"gridcolor\": \"white\", \"linecolor\": \"white\", \"ticks\": \"\"}, \"bgcolor\": \"#E5ECF6\", \"radialaxis\": {\"gridcolor\": \"white\", \"linecolor\": \"white\", \"ticks\": \"\"}}, \"scene\": {\"xaxis\": {\"backgroundcolor\": \"#E5ECF6\", \"gridcolor\": \"white\", \"gridwidth\": 2, \"linecolor\": \"white\", \"showbackground\": true, \"ticks\": \"\", \"zerolinecolor\": \"white\"}, \"yaxis\": {\"backgroundcolor\": \"#E5ECF6\", \"gridcolor\": \"white\", \"gridwidth\": 2, \"linecolor\": \"white\", \"showbackground\": true, \"ticks\": \"\", \"zerolinecolor\": \"white\"}, \"zaxis\": {\"backgroundcolor\": \"#E5ECF6\", \"gridcolor\": \"white\", \"gridwidth\": 2, \"linecolor\": \"white\", \"showbackground\": true, \"ticks\": \"\", \"zerolinecolor\": \"white\"}}, \"shapedefaults\": {\"line\": {\"color\": \"#2a3f5f\"}}, \"ternary\": {\"aaxis\": {\"gridcolor\": \"white\", \"linecolor\": \"white\", \"ticks\": \"\"}, \"baxis\": {\"gridcolor\": \"white\", \"linecolor\": \"white\", \"ticks\": \"\"}, \"bgcolor\": \"#E5ECF6\", \"caxis\": {\"gridcolor\": \"white\", \"linecolor\": \"white\", \"ticks\": \"\"}}, \"title\": {\"x\": 0.05}, \"xaxis\": {\"automargin\": true, \"gridcolor\": \"white\", \"linecolor\": \"white\", \"ticks\": \"\", \"title\": {\"standoff\": 15}, \"zerolinecolor\": \"white\", \"zerolinewidth\": 2}, \"yaxis\": {\"automargin\": true, \"gridcolor\": \"white\", \"linecolor\": \"white\", \"ticks\": \"\", \"title\": {\"standoff\": 15}, \"zerolinecolor\": \"white\", \"zerolinewidth\": 2}}}, \"title\": {\"text\": \"Netflix Movies and TV Shows\"}},                        {\"responsive\": true}                    ).then(function(){\n",
       "                            \n",
       "var gd = document.getElementById('ce8b06df-d500-45c0-8b64-b75d5516c99d');\n",
       "var x = new MutationObserver(function (mutations, observer) {{\n",
       "        var display = window.getComputedStyle(gd).display;\n",
       "        if (!display || display === 'none') {{\n",
       "            console.log([gd, 'removed!']);\n",
       "            Plotly.purge(gd);\n",
       "            observer.disconnect();\n",
       "        }}\n",
       "}});\n",
       "\n",
       "// Listen for the removal of the full notebook cells\n",
       "var notebookContainer = gd.closest('#notebook-container');\n",
       "if (notebookContainer) {{\n",
       "    x.observe(notebookContainer, {childList: true});\n",
       "}}\n",
       "\n",
       "// Listen for the clearing of the current output cell\n",
       "var outputEl = gd.closest('.output');\n",
       "if (outputEl) {{\n",
       "    x.observe(outputEl, {childList: true});\n",
       "}}\n",
       "\n",
       "                        })                };                });            </script>        </div>"
      ]
     },
     "metadata": {},
     "output_type": "display_data"
    }
   ],
   "source": [
    "import plotly.graph_objects as go\n",
    "import pandas as pd\n",
    "\n",
    "fig = go.Figure(data=go.Choropleth(\n",
    "    locations = country_with_code['CODE'],\n",
    "    z = country_with_code['Count'],\n",
    "    text = 'Total Media Available',\n",
    "    colorscale = 'Thermal',\n",
    "    autocolorscale=False,\n",
    "    reversescale=True,\n",
    "    marker_line_color='darkgray',\n",
    "    marker_line_width=0.5,\n",
    "    #colorbar_tickprefix = ,\n",
    "    colorbar_title = 'Total Media',\n",
    "))\n",
    "\n",
    "fig.update_layout(\n",
    "    title_text='Netflix Movies and TV Shows',\n",
    "    geo=dict(\n",
    "        showframe=False,\n",
    "        showcoastlines=False,\n",
    "        projection_type='equirectangular'\n",
    "    ),\n",
    "    annotations = [dict(\n",
    "        x=0.55,\n",
    "        y=0.1,\n",
    "        xref='paper',\n",
    "        yref='paper',\n",
    "        text='Source: <a href=\"https://www.kaggle.com/shivamb/netflix-shows\">\\\n",
    "            Netflix Movies and TV Shows - 2019 </a>',\n",
    "        showarrow = False\n",
    "    )]\n",
    ")\n",
    "\n",
    "fig.show()"
   ]
  },
  {
   "cell_type": "code",
   "execution_count": 159,
   "metadata": {
    "ExecuteTime": {
     "end_time": "2020-12-08T22:55:56.063977Z",
     "start_time": "2020-12-08T22:55:56.057714Z"
    }
   },
   "outputs": [],
   "source": []
  },
  {
   "cell_type": "code",
   "execution_count": 162,
   "metadata": {
    "ExecuteTime": {
     "end_time": "2020-12-08T22:56:20.617249Z",
     "start_time": "2020-12-08T22:56:20.595024Z"
    }
   },
   "outputs": [
    {
     "data": {
      "text/html": [
       "<div>\n",
       "<style scoped>\n",
       "    .dataframe tbody tr th:only-of-type {\n",
       "        vertical-align: middle;\n",
       "    }\n",
       "\n",
       "    .dataframe tbody tr th {\n",
       "        vertical-align: top;\n",
       "    }\n",
       "\n",
       "    .dataframe thead th {\n",
       "        text-align: right;\n",
       "    }\n",
       "</style>\n",
       "<table border=\"1\" class=\"dataframe\">\n",
       "  <thead>\n",
       "    <tr style=\"text-align: right;\">\n",
       "      <th></th>\n",
       "      <th>Countries</th>\n",
       "      <th>Count</th>\n",
       "      <th>CODE</th>\n",
       "    </tr>\n",
       "  </thead>\n",
       "  <tbody>\n",
       "    <tr>\n",
       "      <th>0</th>\n",
       "      <td>United States</td>\n",
       "      <td>2610.0</td>\n",
       "      <td>USA</td>\n",
       "    </tr>\n",
       "    <tr>\n",
       "      <th>1</th>\n",
       "      <td>India</td>\n",
       "      <td>838.0</td>\n",
       "      <td>IND</td>\n",
       "    </tr>\n",
       "    <tr>\n",
       "      <th>2</th>\n",
       "      <td>United Kingdom</td>\n",
       "      <td>602.0</td>\n",
       "      <td>GBR</td>\n",
       "    </tr>\n",
       "    <tr>\n",
       "      <th>3</th>\n",
       "      <td>Canada</td>\n",
       "      <td>318.0</td>\n",
       "      <td>CAN</td>\n",
       "    </tr>\n",
       "    <tr>\n",
       "      <th>4</th>\n",
       "      <td>France</td>\n",
       "      <td>271.0</td>\n",
       "      <td>FRA</td>\n",
       "    </tr>\n",
       "    <tr>\n",
       "      <th>...</th>\n",
       "      <td>...</td>\n",
       "      <td>...</td>\n",
       "      <td>...</td>\n",
       "    </tr>\n",
       "    <tr>\n",
       "      <th>105</th>\n",
       "      <td>Armenia</td>\n",
       "      <td>1.0</td>\n",
       "      <td>ARM</td>\n",
       "    </tr>\n",
       "    <tr>\n",
       "      <th>106</th>\n",
       "      <td>Ecuador</td>\n",
       "      <td>1.0</td>\n",
       "      <td>ECU</td>\n",
       "    </tr>\n",
       "    <tr>\n",
       "      <th>107</th>\n",
       "      <td>Mauritius</td>\n",
       "      <td>1.0</td>\n",
       "      <td>MUS</td>\n",
       "    </tr>\n",
       "    <tr>\n",
       "      <th>108</th>\n",
       "      <td>Guatemala</td>\n",
       "      <td>1.0</td>\n",
       "      <td>GTM</td>\n",
       "    </tr>\n",
       "    <tr>\n",
       "      <th>109</th>\n",
       "      <td>Samoa</td>\n",
       "      <td>1.0</td>\n",
       "      <td>WSM</td>\n",
       "    </tr>\n",
       "  </tbody>\n",
       "</table>\n",
       "<p>110 rows × 3 columns</p>\n",
       "</div>"
      ],
      "text/plain": [
       "          Countries   Count CODE\n",
       "0     United States  2610.0  USA\n",
       "1             India   838.0  IND\n",
       "2    United Kingdom   602.0  GBR\n",
       "3            Canada   318.0  CAN\n",
       "4            France   271.0  FRA\n",
       "..              ...     ...  ...\n",
       "105         Armenia     1.0  ARM\n",
       "106         Ecuador     1.0  ECU\n",
       "107       Mauritius     1.0  MUS\n",
       "108       Guatemala     1.0  GTM\n",
       "109           Samoa     1.0  WSM\n",
       "\n",
       "[110 rows x 3 columns]"
      ]
     },
     "execution_count": 162,
     "metadata": {},
     "output_type": "execute_result"
    }
   ],
   "source": []
  },
  {
   "cell_type": "code",
   "execution_count": null,
   "metadata": {},
   "outputs": [],
   "source": [
    "import plotly.graph_objects as go # or plotly.express as px\n",
    "fig = go.Figure() # or any Plotly Express function e.g. px.bar(...)\n",
    "# fig.add_trace( ... )\n",
    "# fig.update_layout( ... )\n",
    "\n",
    "import dash\n",
    "import dash_core_components as dcc\n",
    "import dash_html_components as html\n",
    "\n",
    "app = dash.Dash()\n",
    "app.layout = html.Div([\n",
    "    dcc.Graph(figure=fig)\n",
    "])\n",
    "\n",
    "app.run_server(debug=True, use_reloader=False)  # Turn off reloader if inside Jupyter"
   ]
  },
  {
   "cell_type": "code",
   "execution_count": null,
   "metadata": {},
   "outputs": [],
   "source": []
  }
 ],
 "metadata": {
  "kernelspec": {
   "display_name": "Python 3",
   "language": "python",
   "name": "python3"
  },
  "language_info": {
   "codemirror_mode": {
    "name": "ipython",
    "version": 3
   },
   "file_extension": ".py",
   "mimetype": "text/x-python",
   "name": "python",
   "nbconvert_exporter": "python",
   "pygments_lexer": "ipython3",
   "version": "3.8.3"
  },
  "varInspector": {
   "cols": {
    "lenName": 16,
    "lenType": 16,
    "lenVar": 40
   },
   "kernels_config": {
    "python": {
     "delete_cmd_postfix": "",
     "delete_cmd_prefix": "del ",
     "library": "var_list.py",
     "varRefreshCmd": "print(var_dic_list())"
    },
    "r": {
     "delete_cmd_postfix": ") ",
     "delete_cmd_prefix": "rm(",
     "library": "var_list.r",
     "varRefreshCmd": "cat(var_dic_list()) "
    }
   },
   "types_to_exclude": [
    "module",
    "function",
    "builtin_function_or_method",
    "instance",
    "_Feature"
   ],
   "window_display": false
  }
 },
 "nbformat": 4,
 "nbformat_minor": 4
}
